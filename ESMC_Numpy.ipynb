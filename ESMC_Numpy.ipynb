{
 "cells": [
  {
   "cell_type": "markdown",
   "id": "1a88079f-2b05-4182-8c7f-9923ebe67f1e",
   "metadata": {},
   "source": [
    "### Preparations"
   ]
  },
  {
   "cell_type": "markdown",
   "id": "7999d9e5-5a14-4d70-9d63-0b6bdb309418",
   "metadata": {},
   "source": [
    "#### Importing required packages"
   ]
  },
  {
   "cell_type": "code",
   "execution_count": 12,
   "id": "bff3a538-75c8-4459-8590-3a00d7030350",
   "metadata": {},
   "outputs": [],
   "source": [
    "import pandas as pd\n",
    "import numpy as np"
   ]
  },
  {
   "cell_type": "markdown",
   "id": "8a7c0894-a116-4489-97f5-e4a1616c094d",
   "metadata": {},
   "source": [
    "#### Loading data"
   ]
  },
  {
   "cell_type": "code",
   "execution_count": 29,
   "id": "9ce03447-1196-4d08-b2d7-3173376a99a8",
   "metadata": {},
   "outputs": [],
   "source": [
    "df = pd.read_csv(\"JAPAN_EMSC_cleaned.csv\")"
   ]
  },
  {
   "cell_type": "markdown",
   "id": "18d16046-e260-4343-ad0d-98ec7a88e4ae",
   "metadata": {},
   "source": [
    "#### Removing duplicate index column"
   ]
  },
  {
   "cell_type": "code",
   "execution_count": 14,
   "id": "84c8dd14-fcfa-42d6-826d-c5509588b734",
   "metadata": {},
   "outputs": [],
   "source": [
    "df = df.drop(columns='Unnamed: 0')"
   ]
  },
  {
   "cell_type": "markdown",
   "id": "b8078477-78bb-41d4-9e9d-2820c7b6757c",
   "metadata": {},
   "source": [
    "#### Making index to start from No.1"
   ]
  },
  {
   "cell_type": "code",
   "execution_count": 15,
   "id": "5099cfc2-492d-470b-abe3-ffa6872ff434",
   "metadata": {},
   "outputs": [],
   "source": [
    "df = df.reset_index(drop=True)\n",
    "df.index = range(1, len(df)+1)"
   ]
  },
  {
   "cell_type": "code",
   "execution_count": 28,
   "id": "50ca790f-5c1c-4310-b52a-0876567bd92f",
   "metadata": {},
   "outputs": [],
   "source": [
    "# df"
   ]
  },
  {
   "cell_type": "markdown",
   "id": "a1f78275-a436-4f7e-be12-0f9d6304e996",
   "metadata": {},
   "source": [
    "### Part1: Calculating Distance from Tokyo"
   ]
  },
  {
   "cell_type": "markdown",
   "id": "78d634a3-fd8f-4b13-9fe4-28c868712e6a",
   "metadata": {},
   "source": [
    "#### Latitude & Longitude for Tokyo, Japan"
   ]
  },
  {
   "cell_type": "code",
   "execution_count": 17,
   "id": "ed0fb576-7203-4c2e-a198-ac46e9dd94a5",
   "metadata": {},
   "outputs": [],
   "source": [
    "japan_latitude = 35.6764\n",
    "japan_longitude = 139.6500"
   ]
  },
  {
   "cell_type": "markdown",
   "id": "116a5848-1e5e-4de2-80d1-5637bb2d6700",
   "metadata": {},
   "source": [
    "#### Generating Latitude & Longitude arrays"
   ]
  },
  {
   "cell_type": "code",
   "execution_count": 18,
   "id": "bcfc1555-4ce7-490b-89c6-af0f6ba22c22",
   "metadata": {},
   "outputs": [
    {
     "name": "stdout",
     "output_type": "stream",
     "text": [
      "(118,)\n",
      "(118,)\n"
     ]
    }
   ],
   "source": [
    "lat_array = np.array(df[\"latitude_deg\"])\n",
    "print(lat_array.shape)\n",
    "lng_array = np.array(df[\"longitude_deg\"])\n",
    "print(lng_array.shape)"
   ]
  },
  {
   "cell_type": "markdown",
   "id": "5a0d1b13-0a98-4984-91d1-226445dd8a60",
   "metadata": {},
   "source": [
    "#### Distance calculations"
   ]
  },
  {
   "cell_type": "code",
   "execution_count": 19,
   "id": "89b4b308-b215-465a-b1cd-f63ab1955ac0",
   "metadata": {},
   "outputs": [],
   "source": [
    "a = (lat_array - japan_latitude)**2\n",
    "b = (lng_array - japan_longitude)**2\n",
    "\n",
    "dist = np.sqrt(a+b).round(2)\n",
    "\n",
    "df.insert(4, \"Dist_from_TKY\", value=dist)"
   ]
  },
  {
   "cell_type": "code",
   "execution_count": 20,
   "id": "04751114-0111-4a28-bc49-9dd256b9ba84",
   "metadata": {},
   "outputs": [],
   "source": [
    "# df"
   ]
  },
  {
   "cell_type": "markdown",
   "id": "908ce26c-5cd0-4aec-924b-64820d5f968e",
   "metadata": {},
   "source": [
    "### Part2: Earthquake Magnitude Analysis"
   ]
  },
  {
   "cell_type": "markdown",
   "id": "2e2ab653-9178-4a6f-bd5b-3126c363ace1",
   "metadata": {},
   "source": [
    "#### Generating Magnitude Array"
   ]
  },
  {
   "cell_type": "code",
   "execution_count": 21,
   "id": "38bfb621-22ef-4246-8110-4f4745e49a23",
   "metadata": {},
   "outputs": [
    {
     "name": "stdout",
     "output_type": "stream",
     "text": [
      "(118,)\n"
     ]
    }
   ],
   "source": [
    "mag_array = np.array(df[\"magnitude_value\"], dtype=\"float\")\n",
    "print(mag_array.shape)"
   ]
  },
  {
   "cell_type": "markdown",
   "id": "0a722c48-32f3-4fb6-817e-9a3a559619d1",
   "metadata": {},
   "source": [
    "#### Date Range for this Analysis"
   ]
  },
  {
   "cell_type": "code",
   "execution_count": 22,
   "id": "8cfc27f3-f564-4548-aa17-66bef23be855",
   "metadata": {},
   "outputs": [
    {
     "name": "stdout",
     "output_type": "stream",
     "text": [
      "From 2025-09-15 to 2025-10-12\n"
     ]
    }
   ],
   "source": [
    "start_date = df.iloc[-1,0].split()[0]\n",
    "end_date = df.iloc[0,0].split()[0]\n",
    "print(f\"From {start_date} to {end_date}\")"
   ]
  },
  {
   "cell_type": "markdown",
   "id": "0c662ba5-189c-4565-9fb6-f8220bf677af",
   "metadata": {},
   "source": [
    "#### Earthquake Magnitude Average"
   ]
  },
  {
   "cell_type": "code",
   "execution_count": 24,
   "id": "8834a11f-3d94-4de4-abfe-53089441b0fb",
   "metadata": {},
   "outputs": [
    {
     "name": "stdout",
     "output_type": "stream",
     "text": [
      "Average magnitude for earthquakes from 2025-09-15 to 2025-10-12 was 3.78\n"
     ]
    }
   ],
   "source": [
    "mag_average = np.mean(mag_array)\n",
    "print(f\"Average magnitude for earthquakes from {start_date} to {end_date} was {mag_average:.2f}\")"
   ]
  },
  {
   "cell_type": "markdown",
   "id": "992f2ad8-0a3f-49ce-867b-7e1436118961",
   "metadata": {},
   "source": [
    "#### Earthquake Magnitude Variance & Standard Deviation"
   ]
  },
  {
   "cell_type": "code",
   "execution_count": 26,
   "id": "07d0e4a1-012a-4b95-824e-8684cb6793fb",
   "metadata": {},
   "outputs": [
    {
     "name": "stdout",
     "output_type": "stream",
     "text": [
      "Variance of magnitude for earthquakes from 2025-09-15 to 2025-10-12 was 0.55\n",
      "Standard deviation of magnitude for earthquakes from 2025-09-15 to 2025-10-12 was 0.74\n"
     ]
    }
   ],
   "source": [
    "mag_std_dev = np.std(mag_array)\n",
    "mag_var = mag_std_dev ** 2\n",
    "print(f\"Variance of magnitude for earthquakes from {start_date} to {end_date} was {mag_var:.2f}\")\n",
    "print(f\"Standard deviation of magnitude for earthquakes from {start_date} to {end_date} was {mag_std_dev:.2f}\")"
   ]
  },
  {
   "cell_type": "markdown",
   "id": "4e7970a9-e328-47d0-ab9a-200901d7e16e",
   "metadata": {},
   "source": [
    "#### Earthquake Magnitude Percentile"
   ]
  },
  {
   "cell_type": "code",
   "execution_count": 27,
   "id": "d1a04369-d4c1-4f73-a020-82580c1f6cf2",
   "metadata": {},
   "outputs": [
    {
     "name": "stdout",
     "output_type": "stream",
     "text": [
      "From 2025-09-15 to 2025-10-12 magnitude for:\n",
      "25% of earthquakes was equal or less than 3.20\n",
      "50% of earthquakes was equal or less than 3.65\n",
      "75% of earthquakes was equal or less than 4.47\n"
     ]
    }
   ],
   "source": [
    "mag_p25 = np.percentile(mag_array, 25)\n",
    "mag_p50 = np.percentile(mag_array, 50)\n",
    "mag_p75 = np.percentile(mag_array, 75)\n",
    "print(f\"From {start_date} to {end_date} magnitude for:\")\n",
    "print(f\"25% of earthquakes was equal or less than {mag_p25:.2f}\")\n",
    "print(f\"50% of earthquakes was equal or less than {mag_p50:.2f}\")\n",
    "print(f\"75% of earthquakes was equal or less than {mag_p75:.2f}\")"
   ]
  }
 ],
 "metadata": {
  "kernelspec": {
   "display_name": "Python 3",
   "language": "python",
   "name": "python3"
  },
  "language_info": {
   "codemirror_mode": {
    "name": "ipython",
    "version": 3
   },
   "file_extension": ".py",
   "mimetype": "text/x-python",
   "name": "python",
   "nbconvert_exporter": "python",
   "pygments_lexer": "ipython3",
   "version": "3.13.5"
  }
 },
 "nbformat": 4,
 "nbformat_minor": 5
}
