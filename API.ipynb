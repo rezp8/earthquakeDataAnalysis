{
 "cells": [
  {
   "cell_type": "code",
   "execution_count": 55,
   "id": "e60cda69",
   "metadata": {},
   "outputs": [],
   "source": [
    "import pandas as pd\n",
    "import numpy as np"
   ]
  },
  {
   "cell_type": "markdown",
   "id": "60281230",
   "metadata": {},
   "source": [
    "<div dir=\"rtl\" style=\" font-size: 20px;\">\n",
    ">>> استخراج فایل CSV داده‌ها\n",
    "</div>"
   ]
  },
  {
   "cell_type": "code",
   "execution_count": 56,
   "id": "e716310f",
   "metadata": {},
   "outputs": [],
   "source": [
    "import requests\n",
    "from datetime import datetime, timedelta\n",
    "\n",
    "end_date = datetime.today().date()\n",
    "start_date = end_date - timedelta(days=30)\n",
    "\n",
    "url = \"https://earthquake.usgs.gov/fdsnws/event/1/query\"\n",
    "params = {\n",
    "    \"format\": \"csv\",\n",
    "    \"starttime\": str(start_date),\n",
    "    \"endtime\": str(end_date),\n",
    "    \"minlatitude\": 24,\n",
    "    \"maxlatitude\": 46,\n",
    "    \"minlongitude\": 123,\n",
    "    \"maxlongitude\": 146,\n",
    "    \"minmagnitude\": 1\n",
    "}\n",
    "response = requests.get(url, params=params)\n",
    "with open(\"japan_earthquakes.csv\", \"w\", encoding=\"utf-8\") as f:\n",
    "        f.write(response.text)\n"
   ]
  },
  {
   "cell_type": "markdown",
   "id": "823f97f6",
   "metadata": {},
   "source": [
    "<div dir=\"rtl\" style=\" font-size: 20px;\">\n",
    ">>> خواندن فایل سیو شده در سیستم</div>"
   ]
  },
  {
   "cell_type": "code",
   "execution_count": null,
   "id": "a5cca3c0",
   "metadata": {},
   "outputs": [],
   "source": [
    "df = pd.read_csv(\"japan_earthquakes.csv\")\n",
    "df"
   ]
  },
  {
   "cell_type": "markdown",
   "id": "37c6b1e8",
   "metadata": {},
   "source": [
    "<div dir=\"rtl\" style=\" font-size: 20px;\">\n",
    ">>> حذف 3 ستون بدردنخور</div>"
   ]
  },
  {
   "cell_type": "code",
   "execution_count": 64,
   "id": "9622f31f",
   "metadata": {},
   "outputs": [],
   "source": [
    "df = df.drop(columns=[\"status\",\"locationSource\", \"magSource\"])"
   ]
  },
  {
   "cell_type": "markdown",
   "id": "adbdfebf",
   "metadata": {},
   "source": [
    "<div dir=\"rtl\" style=\" font-size: 20px;\">\n",
    ">>> تبدیل داده‌های زمانی به تایم‌آبجکت ( اینجا میشد از متدهای خود پانداس هم استفاده کرد)\n",
    "</div>"
   ]
  },
  {
   "cell_type": "code",
   "execution_count": null,
   "id": "ade22619",
   "metadata": {},
   "outputs": [],
   "source": [
    "import datetime\n",
    "\n",
    "def date_objector(string):\n",
    "    return datetime.datetime.strptime(string, \"%Y-%m-%dT%H:%M:%S.%fZ\")\n",
    "df[\"time\"] = df[\"time\"].apply(date_objector)\n",
    "df[\"updated\"] = df[\"updated\"].apply(date_objector)\n",
    "# df[\"time\"] = pd.to_datetime(df[\"time\"])\n",
    "# df[\"updated\"] = pd.to_datetime(df[\"updated\"])\n",
    "df"
   ]
  },
  {
   "cell_type": "markdown",
   "id": "f3d02f3b",
   "metadata": {},
   "source": [
    "<div dir=\"rtl\" style=\" font-size: 20px;\">\n",
    ">>> تعداد ردیف و ستون\n",
    "</div>"
   ]
  },
  {
   "cell_type": "code",
   "execution_count": null,
   "id": "87685ac1",
   "metadata": {},
   "outputs": [],
   "source": [
    "print(\"تعداد ردیف: \", df.shape[0])\n",
    "print(\"تعداد ستون: \", df.shape[1])\n"
   ]
  },
  {
   "cell_type": "markdown",
   "id": "2e1cbc57",
   "metadata": {},
   "source": [
    "<div dir=\"rtl\" style=\" font-size: 20px;\">\n",
    ">>> دیتاتایپ ستون‌ها\n",
    "</div>"
   ]
  },
  {
   "cell_type": "code",
   "execution_count": null,
   "id": "62198fb6",
   "metadata": {},
   "outputs": [],
   "source": [
    "df.dtypes"
   ]
  },
  {
   "cell_type": "markdown",
   "id": "c662e735",
   "metadata": {},
   "source": [
    "<div dir=\"rtl\" style=\" font-size: 20px;\">\n",
    ">>> تبدیل تمام مقادیر عددی به float\n",
    "</div>\n"
   ]
  },
  {
   "cell_type": "code",
   "execution_count": null,
   "id": "8e5d696d",
   "metadata": {},
   "outputs": [],
   "source": [
    "num_cols = df.select_dtypes(include=[\"number\"]).columns\n",
    "df[num_cols] = df[num_cols].astype(float)\n",
    "df"
   ]
  },
  {
   "cell_type": "markdown",
   "id": "3b5d7ff3",
   "metadata": {},
   "source": [
    "<div dir=\"rtl\" style=\" font-size: 20px;\">\n",
    ">>> بررسی وجود داده‌های null در ستون‌ها\n",
    "</div>"
   ]
  },
  {
   "cell_type": "code",
   "execution_count": null,
   "id": "b5e84328",
   "metadata": {},
   "outputs": [],
   "source": [
    "df.isnull().sum()"
   ]
  },
  {
   "cell_type": "markdown",
   "id": "5b960b81",
   "metadata": {},
   "source": [
    "<div dir=\"rtl\" style=\" font-size: 20px;\">\n",
    ">>> ایجاد ستون نام ماه با استفاده از ستون تایم\n",
    "</div>"
   ]
  },
  {
   "cell_type": "code",
   "execution_count": null,
   "id": "8812f6b9",
   "metadata": {},
   "outputs": [],
   "source": [
    "df[\"Month\"] = df[\"time\"].dt.month_name()\n",
    "df"
   ]
  },
  {
   "cell_type": "markdown",
   "id": "40d7b620",
   "metadata": {},
   "source": [
    "<div dir=\"rtl\" style=\" font-size: 20px;\">\n",
    ">>> ساخت ستون category\n",
    "</div>"
   ]
  },
  {
   "cell_type": "code",
   "execution_count": null,
   "id": "12bb8d38",
   "metadata": {},
   "outputs": [],
   "source": [
    "def category(mag_str):\n",
    "    mag = mag_str\n",
    "    if mag < 4:\n",
    "        return \"Weak\" \n",
    "    elif 4 <= mag <= 6:\n",
    "        return \"Moderate\"\n",
    "    elif mag > 6:\n",
    "        return \"Strong\" \n",
    "    \n",
    "df[\"Category\"] = df[\"mag\"].apply(category)\n",
    "df"
   ]
  },
  {
   "cell_type": "markdown",
   "id": "caf47796",
   "metadata": {},
   "source": [
    "<div dir=\"rtl\" style=\" font-size: 20px;\">\n",
    ">>> ساخت ستون region با تابع place به روش زیر:</div>"
   ]
  },
  {
   "cell_type": "code",
   "execution_count": null,
   "id": "a032bdbe",
   "metadata": {},
   "outputs": [],
   "source": [
    "def place(place):\n",
    "    a = place.split()\n",
    "    if \"of\" in a:\n",
    "        #return \" \".join(a[2:]) \n",
    "        return \" \".join(a[4:])\n",
    "    else:\n",
    "        return place\n",
    "df[\"region\"] = df[\"place\"].apply(place)\n",
    "df[\"region\"].value_counts()"
   ]
  },
  {
   "cell_type": "markdown",
   "id": "fa222dd4",
   "metadata": {},
   "source": [
    "<div dir=\"rtl\" style=\" font-size: 20px;\">\n",
    ">>> گروه‌بندی داده‌ها به نام ماه و category و محاسبه شاخص‌های تعداد و میانگین براساس این دو تیتر</div>"
   ]
  },
  {
   "cell_type": "code",
   "execution_count": null,
   "id": "8c73a9df",
   "metadata": {},
   "outputs": [],
   "source": [
    "monthly_category = df.groupby(['Month', 'Category']).agg({'mag': ['count', 'mean'],'depth': 'mean'}).round(2)\n",
    "\n",
    "print(monthly_category)"
   ]
  },
  {
   "cell_type": "markdown",
   "id": "c686f8ba",
   "metadata": {},
   "source": [
    "<div dir=\"rtl\" style=\" font-size: 20px;\">\n",
    ">>> گروه‌بندی براساس نام ناحیه زلزله و محاسبه شاخص‌های زیر:</div>"
   ]
  },
  {
   "cell_type": "code",
   "execution_count": null,
   "id": "bb1a5c63",
   "metadata": {},
   "outputs": [],
   "source": [
    "region_stats = df.groupby('region').agg({'mag': ['count', 'mean', 'max'],'depth': ['mean', 'max'],'latitude': 'mean','longitude': 'mean'}).round(2)\n",
    "\n",
    "print(region_stats)"
   ]
  },
  {
   "cell_type": "markdown",
   "id": "38604311",
   "metadata": {},
   "source": [
    "<div dir=\"rtl\" style=\" font-size: 20px;\">\n",
    ">>> تعداد زلزله براساس ناحیه</div>"
   ]
  },
  {
   "cell_type": "code",
   "execution_count": null,
   "id": "e3f0ab67",
   "metadata": {},
   "outputs": [],
   "source": [
    "region_counts = df.groupby('region').size().sort_values(ascending=False)\n",
    "\n",
    "print(region_counts)"
   ]
  },
  {
   "cell_type": "markdown",
   "id": "a4ccf41d",
   "metadata": {},
   "source": [
    "<div dir=\"rtl\" style=\" font-size: 20px;\">\n",
    ">>> نمودار میله‌ای پراکندگی زلزله‌ها براساس ناحیه\n",
    "</div>"
   ]
  },
  {
   "cell_type": "code",
   "execution_count": null,
   "id": "00e81a9d",
   "metadata": {},
   "outputs": [],
   "source": [
    "region_counts.plot(kind='bar', color='skyblue', edgecolor='black')\n"
   ]
  },
  {
   "cell_type": "markdown",
   "id": "a3fd3818",
   "metadata": {},
   "source": [
    "<div dir=\"rtl\" style=\" font-size: 20px;\">\n",
    ">>> محاسبه فاصله نقاط زلزله با توکیو\n",
    "</div>"
   ]
  },
  {
   "cell_type": "code",
   "execution_count": null,
   "id": "68d9408d",
   "metadata": {},
   "outputs": [],
   "source": [
    "\n",
    "tokyo_lat, tokyo_lon = 35.6895, 139.6917\n",
    "\n",
    "df['dist_to_tokyo'] = np.sqrt(\n",
    "    (df['latitude'] - tokyo_lat)**2 + \n",
    "    (df['longitude'] - tokyo_lon)**2\n",
    ")\n",
    "\n",
    "print(df[[\"region\",'latitude', 'longitude', 'dist_to_tokyo']])"
   ]
  },
  {
   "cell_type": "markdown",
   "id": "81d25e76",
   "metadata": {},
   "source": [
    "<div dir=\"rtl\" style=\" font-size: 20px;\">\n",
    ">>> محاسبه‌ی شاخص‌های موردنظر با نامپای:</div>"
   ]
  },
  {
   "cell_type": "code",
   "execution_count": null,
   "id": "686abe5e",
   "metadata": {},
   "outputs": [],
   "source": [
    "magnitudes = df['mag'].to_numpy()\n",
    "distances = df['dist_to_tokyo'].to_numpy()\n",
    "\n",
    "mean_mag = np.mean(magnitudes)\n",
    "std_mag = np.std(magnitudes)\n",
    "percentile_90 = np.percentile(magnitudes, 90)\n",
    "mean_distance = np.mean(distances)\n",
    "\n",
    "print(\"میانگین زلزله ها: \", mean_mag)\n",
    "print(\"انحراف معیار: \", std_mag)\n",
    "print(\"صدک 90ام: \", percentile_90)\n",
    "print(\"میانگین فاصله از توکیو: \", mean_distance)"
   ]
  }
 ],
 "metadata": {
  "kernelspec": {
   "display_name": "venv",
   "language": "python",
   "name": "python3"
  },
  "language_info": {
   "codemirror_mode": {
    "name": "ipython",
    "version": 3
   },
   "file_extension": ".py",
   "mimetype": "text/x-python",
   "name": "python",
   "nbconvert_exporter": "python",
   "pygments_lexer": "ipython3",
   "version": "3.13.5"
  }
 },
 "nbformat": 4,
 "nbformat_minor": 5
}
