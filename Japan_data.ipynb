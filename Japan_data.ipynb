{
 "cells": [
  {
   "cell_type": "code",
   "execution_count": null,
   "id": "6ce429c6",
   "metadata": {},
   "outputs": [],
   "source": [
    "import pandas as pd\n",
    "from datetime import datetime\n",
    "import numpy as np\n",
    "from dateutil import parser"
   ]
  },
  {
   "cell_type": "markdown",
   "id": "72e8f7bb",
   "metadata": {},
   "source": [
    "<div dir=\"rtl\" align=\"right\">\n",
    "\n",
    "  خواندن داده از دیتاست     \n",
    "\n",
    "</div>\n",
    "\n"
   ]
  },
  {
   "cell_type": "code",
   "execution_count": null,
   "id": "b2d45c7a",
   "metadata": {},
   "outputs": [],
   "source": [
    "\n",
    "df=pd.read_csv(\"japan_messy_earthquakes.csv\")\n"
   ]
  },
  {
   "cell_type": "markdown",
   "id": "6cbc2652",
   "metadata": {},
   "source": [
    "<div dir=\"rtl\" align=\"right\">\n",
    "\n",
    "تعداد ردیف‌ها و ستون‌ها\n",
    "\n",
    "</div>"
   ]
  },
  {
   "cell_type": "code",
   "execution_count": null,
   "id": "35a82f86",
   "metadata": {},
   "outputs": [],
   "source": [
    "rows, columns = df.shape\n",
    "print(f\"ROWS: {rows} _ Columns: {columns}\")"
   ]
  },
  {
   "cell_type": "markdown",
   "id": "c75af4a0",
   "metadata": {},
   "source": [
    "<div dir=\"rtl\" align=\"right\">\n",
    "\n",
    "بررسی نوع داده‌ها:\n",
    "\n",
    "</div>"
   ]
  },
  {
   "cell_type": "code",
   "execution_count": null,
   "id": "78777574",
   "metadata": {},
   "outputs": [],
   "source": [
    "df.dtypes\n"
   ]
  },
  {
   "cell_type": "markdown",
   "id": "262fda4f",
   "metadata": {},
   "source": [
    "<div dir=\"rtl\" align=\"right\">\n",
    "\n",
    "پردازش و مرتب‌سازی داده‌ها\n",
    "\n",
    "</div>"
   ]
  },
  {
   "cell_type": "code",
   "execution_count": null,
   "id": "695826ec",
   "metadata": {},
   "outputs": [],
   "source": [
    "df = df.drop(columns=[\"notes\", \"status\"])\n",
    "df = df.drop_duplicates().reset_index(drop=True)\n"
   ]
  },
  {
   "cell_type": "code",
   "execution_count": null,
   "id": "6afa042a",
   "metadata": {},
   "outputs": [],
   "source": [
    "\n",
    "\n",
    "\n",
    "dates = []\n",
    "times = []\n",
    "df[\"time\"] = df[\"time\"].astype(str).str.strip().str.replace(\".Z\", \"Z\", regex=False)\n",
    "for ts in df[\"time\"]:\n",
    "    try:\n",
    "        dt = parser.parse(ts)\n",
    "        date_str = dt.date()\n",
    "        time_str = dt.strftime(\"%H:%M:%S.%f\")[:-3]  \n",
    "    except:\n",
    "        date_str = \"unv\"\n",
    "        time_str = \"unv\"\n",
    "    \n",
    "    dates.append(date_str)\n",
    "    times.append(time_str)\n",
    "\n",
    "df.insert(0, \"Date\", dates)\n",
    "df.insert(1, \"Time\", times)\n",
    "\n",
    "df = df.drop(columns=\"time\")"
   ]
  },
  {
   "cell_type": "code",
   "execution_count": null,
   "id": "c90a3669",
   "metadata": {},
   "outputs": [],
   "source": [
    "df.insert(\n",
    "    0, \n",
    "    'datetime',\n",
    "    pd.to_datetime(df['Date'].astype(str) + ' ' + df['Time'].astype(str), errors='coerce')\n",
    ")\n",
    "df['Month'] = df['datetime'].dt.strftime('%B')\n",
    "df = df.drop(columns=[\"Date\", \"Time\"])\n",
    "\n"
   ]
  },
  {
   "cell_type": "code",
   "execution_count": null,
   "id": "475fea60",
   "metadata": {},
   "outputs": [],
   "source": [
    "\n",
    "\n",
    "def floater(value):\n",
    "\n",
    "    value = str(value).lower().strip().replace(\"point\", \".\").replace(\" \", \"\")\n",
    "    words = {\n",
    "        \"zero\": 0, \"one\": 1, \"two\": 2, \"three\": 3, \"four\": 4,\n",
    "        \"five\": 5, \"six\": 6, \"seven\": 7, \"eight\": 8, \"nine\": 9\n",
    "    }\n",
    "    try:\n",
    "        return float(value)\n",
    "    except:\n",
    "        pass\n",
    "\n",
    "    if \".\" in value:\n",
    "        left, right = value.split(\".\", 1)\n",
    "        if left in words and right in words:\n",
    "            return float(str(words[left])+\".\"+str(words[right]))\n",
    "    if value in words:\n",
    "        return float(words[value])\n",
    "\n",
    "    return None\n",
    "df['mag'] = df['mag'].apply(floater)\n"
   ]
  },
  {
   "cell_type": "code",
   "execution_count": null,
   "id": "4e9e1097",
   "metadata": {},
   "outputs": [],
   "source": [
    "def clean_depth(val):\n",
    "\n",
    "    if pd.isna(val):\n",
    "        return np.nan\n",
    "\n",
    "    v = str(val).strip().lower()\n",
    "\n",
    "    num_str = ''\n",
    "    for ch in v:\n",
    "        if ch.isdigit() or ch == '.':\n",
    "            num_str += ch\n",
    "    if num_str == '':\n",
    "        return np.nan\n",
    "\n",
    "    num = float(num_str)\n",
    "    if num<0 or num>700:\n",
    "        return np.nan\n",
    "\n",
    "    if 'km' in v or 'kilometer' in v:\n",
    "        result = num\n",
    "    elif 'meter' in v:\n",
    "        result = num / 1000\n",
    "    elif 'mile' in v:\n",
    "        result = num * 1.60934\n",
    "    else:\n",
    "        result = num  \n",
    "\n",
    "    return round(result, 2)\n",
    "df['depth'] = df['depth'].apply(clean_depth)\n"
   ]
  },
  {
   "cell_type": "code",
   "execution_count": null,
   "id": "5d791745",
   "metadata": {},
   "outputs": [],
   "source": [
    "\n",
    "cols = ['latitude', 'longitude', 'mag', 'depth']\n",
    "\n",
    "def invalid_count(row):\n",
    "    count = 0\n",
    "    for col in cols:\n",
    "        val = row[col]\n",
    "\n",
    "        if pd.isna(val):\n",
    "            count += 1\n",
    "            continue\n",
    "\n",
    "        v = str(val).strip().lower()\n",
    "\n",
    "        if v in ['nan', 'unknown', '', 'none']:\n",
    "            count += 1\n",
    "            continue\n",
    "\n",
    "        try:\n",
    "            num = float(v)\n",
    "        except ValueError:\n",
    "            count += 1\n",
    "            continue\n",
    "\n",
    "        if num < 0:\n",
    "            count += 1\n",
    "\n",
    "    return count\n",
    "\n",
    "df = df[df.apply(invalid_count, axis=1) < 2].reset_index(drop=True)\n"
   ]
  },
  {
   "cell_type": "code",
   "execution_count": null,
   "id": "a95a02a7",
   "metadata": {},
   "outputs": [],
   "source": [
    "\n",
    "def fill_missing(df, col, kind='mean'):\n",
    "\n",
    "    if kind == 'mean':\n",
    "        val = df[col].mean()\n",
    "\n",
    "    else:\n",
    "        val = df[col].median()\n",
    "\n",
    "    df[col] = df[col].fillna(val)\n",
    "    print(f\"{col} {kind} = {val:.2f}\")\n",
    "    \n",
    "    return df\n",
    "\n",
    "df['latitude'] = df['latitude'].astype(float)\n",
    "\n",
    "df = fill_missing(df, 'latitude', 'mean')\n",
    "df = fill_missing(df, 'longitude', 'mean')\n",
    "df = fill_missing(df, 'depth', 'median')\n",
    "df = fill_missing(df, 'mag', 'median')\n",
    "\n",
    "\n"
   ]
  },
  {
   "cell_type": "code",
   "execution_count": null,
   "id": "7369ef37",
   "metadata": {},
   "outputs": [],
   "source": [
    "def categorize_mag(mag):\n",
    "    if mag < 4:\n",
    "        return \"Weak\"\n",
    "    elif mag <= 6:\n",
    "        return \"Moderate\"\n",
    "    else:\n",
    "        return \"Strong\"\n",
    "\n",
    "df[\"category\"] = df[\"mag\"].apply(categorize_mag)\n",
    "df"
   ]
  },
  {
   "cell_type": "code",
   "execution_count": null,
   "id": "19a57cdd",
   "metadata": {},
   "outputs": [],
   "source": [
    "\n",
    "summary = (\n",
    "    df.groupby([\"Month\", \"category\"])\n",
    "      .agg(\n",
    "          avg_magnitude=(\"mag\", \"mean\"),\n",
    "          earthquake_count=(\"mag\", \"count\")\n",
    "      )\n",
    "      .reset_index()\n",
    ")\n",
    "\n",
    "print(summary)\n"
   ]
  },
  {
   "cell_type": "code",
   "execution_count": null,
   "id": "8a2f5b24",
   "metadata": {},
   "outputs": [],
   "source": [
    "def clean_region(area_name): \n",
    "    \n",
    "    cleaned = area_name.replace(\"Prefecture\",\"\").replace(\"region\", \"\").replace(\"central\",\"\")\n",
    "\n",
    "    if \",\" in cleaned:\n",
    "        parts = cleaned.split(\",\")\n",
    "        if \"japan\" in parts[-1].strip().lower():\n",
    "            cleaned = \",\".join(parts[:-1])\n",
    "\n",
    "    return cleaned.strip().title()\n",
    "\n",
    "df[\"region\"] = df[\"place\"].apply(clean_region)\n"
   ]
  },
  {
   "cell_type": "code",
   "execution_count": null,
   "id": "0ab49556",
   "metadata": {},
   "outputs": [],
   "source": [
    "quake_count = df.groupby(\"region\").size().reset_index(name=\"Earthquake Count\")\n",
    "quake_count= quake_count.sort_values(by=\"Earthquake Count\", ascending=False).reset_index(drop=True)\n",
    "\n",
    "print(quake_count)\n"
   ]
  },
  {
   "cell_type": "code",
   "execution_count": null,
   "id": "a0a85c20",
   "metadata": {},
   "outputs": [],
   "source": [
    "mean_stats = df.groupby(\"region\")[[\"mag\", \"depth\"]].mean().reset_index()\n",
    "mean_stats = mean_stats.sort_values(by=\"mag\", ascending=False).reset_index(drop=True)\n",
    "\n",
    "mean_stats.columns = [\"Region\", \" Magnitude mean\", \"Depth mean\"]\n",
    "\n",
    "print(mean_stats)\n",
    "\n"
   ]
  },
  {
   "cell_type": "code",
   "execution_count": null,
   "id": "f0e64b0b",
   "metadata": {},
   "outputs": [],
   "source": [
    "max_stats = df.groupby(\"region\")[[\"mag\", \"depth\"]].max().reset_index()\n",
    "max_stats = max_stats.sort_values(by=\"mag\", ascending=False).reset_index(drop=True)\n",
    "max_stats.columns = [\"Region\", \" Magnitude max\", \"Depth max\"]\n",
    "print(max_stats)\n"
   ]
  },
  {
   "cell_type": "code",
   "execution_count": null,
   "id": "2608bbe6",
   "metadata": {},
   "outputs": [],
   "source": [
    "\n",
    "df.columns = [col.title() for col in df.columns]\n",
    "\n",
    "df.rename(columns={'Mag': 'Magnitude'}, inplace=True)\n",
    "cols = ['Datetime', 'Month'] + [col for col in df.columns if col not in ['Datetime', 'Month']]\n",
    "df = df[cols]\n"
   ]
  },
  {
   "cell_type": "code",
   "execution_count": null,
   "id": "1239312b",
   "metadata": {},
   "outputs": [],
   "source": [
    "tokyo_lat, tokyo_long  = 35.6764, 139.6500"
   ]
  },
  {
   "cell_type": "code",
   "execution_count": null,
   "id": "9fc4279e",
   "metadata": {},
   "outputs": [],
   "source": [
    "earthquake_lat = np.radians(df[\"Latitude\"])\n",
    "earthquake_long = np.radians(df[\"Longitude\"])\n",
    "tokyo_lat = np.radians(tokyo_lat)\n",
    "tokyo_long = np.radians(tokyo_long)\n",
    "\n",
    "dlat = earthquake_lat - tokyo_lat\n",
    "dlng = earthquake_long - tokyo_long\n",
    "\n",
    "haversine = np.sin(dlat / 2)**2 + np.cos(earthquake_lat) * np.cos(tokyo_lat) * np.sin(dlng / 2)**2\n",
    "haversine = 2 * np.arcsin(np.sqrt(haversine))\n",
    "\n",
    "dist = (haversine * 6371).round(2)\n",
    "df.insert(4, \"dist_to_Tokyo_km\", value=dist)"
   ]
  },
  {
   "cell_type": "code",
   "execution_count": null,
   "id": "5a5d5783",
   "metadata": {},
   "outputs": [],
   "source": [
    "df.to_csv('japan_clean_dataset.csv', index=False, encoding='utf-8-sig')"
   ]
  },
  {
   "cell_type": "code",
   "execution_count": null,
   "id": "545d9945",
   "metadata": {},
   "outputs": [],
   "source": [
    "\n",
    "mag_avg = np.mean(df[\"Magnitude\"])\n",
    "mag_std_dev = np.std(df[\"Magnitude\"])\n",
    "mag_var = mag_std_dev ** 2\n",
    "\n",
    "\n",
    "stats_df = pd.DataFrame({\n",
    "    \"Statistic\": [\"Average\", \"Variance\", \"Standard Deviation\"],\n",
    "    \"Magnitude\": [round(mag_avg, 2), round(mag_var, 2), round(mag_std_dev, 2)]\n",
    "})\n",
    "\n",
    "\n",
    "print(\"Earthquake magnitude statistics from 2025-09-15 to 2025-10-19:\")\n",
    "print(stats_df)"
   ]
  },
  {
   "cell_type": "code",
   "execution_count": null,
   "id": "0948b10d",
   "metadata": {},
   "outputs": [],
   "source": [
    "mag_p25 = np.percentile(df[\"Magnitude\"], 25)\n",
    "mag_p50 = np.percentile(df[\"Magnitude\"], 50)\n",
    "mag_p75 = np.percentile(df[\"Magnitude\"], 75)\n",
    "percentile_df = pd.DataFrame({\n",
    "    \"Percentile\": [\"25%\", \"50%\", \"75%\"],\n",
    "    \"Magnitude ≤\": [round(mag_p25, 2), round(mag_p50, 2), round(mag_p75, 2)]\n",
    "})\n",
    "\n",
    "print(f\"Earthquake magnitude percentiles from 2025_09_15 to 2025_10_19:\")\n",
    "print(percentile_df)"
   ]
  }
 ],
 "metadata": {
  "kernelspec": {
   "display_name": "base",
   "language": "python",
   "name": "python3"
  },
  "language_info": {
   "codemirror_mode": {
    "name": "ipython",
    "version": 3
   },
   "file_extension": ".py",
   "mimetype": "text/x-python",
   "name": "python",
   "nbconvert_exporter": "python",
   "pygments_lexer": "ipython3",
   "version": "3.13.5"
  }
 },
 "nbformat": 4,
 "nbformat_minor": 5
}
