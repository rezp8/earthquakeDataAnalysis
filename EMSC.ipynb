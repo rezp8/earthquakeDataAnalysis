{
 "cells": [
  {
   "cell_type": "markdown",
   "id": "bcfda16c",
   "metadata": {},
   "source": [
    "<div dir=\"rtl\" style=\" font-size: 27px;\">\n",
    "پیش پردازش داده ها با Pandas\n",
    "</div>"
   ]
  },
  {
   "cell_type": "markdown",
   "id": "31a8fbca",
   "metadata": {},
   "source": [
    "<div dir=\"rtl\" style=\" font-size: 20px;\">\n",
    "ایمپورت کردن پکیج های موردنیاز\n",
    "</div>"
   ]
  },
  {
   "cell_type": "code",
   "execution_count": 178,
   "id": "69f67369-ce1a-4913-9fe8-8daec822a462",
   "metadata": {},
   "outputs": [],
   "source": [
    "import pandas as pd\n",
    "import numpy as np\n",
    "import matplotlib.pyplot as plt\n",
    "import calendar\n",
    "import utils"
   ]
  },
  {
   "cell_type": "markdown",
   "id": "cabb2d31",
   "metadata": {},
   "source": [
    "<div dir=\"rtl\" style=\" font-size: 20px;\">\n",
    "خواندن داده ها از فایل csv و ذخیره در یک دیتافریم\n",
    "</div>"
   ]
  },
  {
   "cell_type": "code",
   "execution_count": 179,
   "id": "8a17b94e-b5f9-4fb1-b73d-0afff1627404",
   "metadata": {},
   "outputs": [],
   "source": [
    "df = pd.read_csv(\"JAPAN_EMSC.csv\")"
   ]
  },
  {
   "cell_type": "markdown",
   "id": "8acac08b",
   "metadata": {},
   "source": [
    "<div dir=\"rtl\" style=\" font-size: 20px;\">\n",
    "شروع ستون ایندکس از عدد یک بجای صفر\n",
    "</div>"
   ]
  },
  {
   "cell_type": "code",
   "execution_count": 180,
   "id": "c343c80c-a51d-43ea-9ffa-ddea1aa1a743",
   "metadata": {},
   "outputs": [],
   "source": [
    "df = df.reset_index(drop=True)\n",
    "df.index = range(1, len(df)+1)"
   ]
  },
  {
   "cell_type": "markdown",
   "id": "f3f03592",
   "metadata": {},
   "source": [
    "<div dir=\"rtl\" style=\" font-size: 20px;\">\n",
    "نمایش تعداد سطرها و ستون ها\n",
    "</div>"
   ]
  },
  {
   "cell_type": "code",
   "execution_count": 181,
   "id": "768495ab-dd37-4c03-8096-4809f194a005",
   "metadata": {},
   "outputs": [
    {
     "name": "stdout",
     "output_type": "stream",
     "text": [
      "There are 138 rows and 7 columns in this file\n"
     ]
    }
   ],
   "source": [
    "print(f\"There are {df.shape[0]} rows and {df.shape[1]} columns in this file\")"
   ]
  },
  {
   "cell_type": "markdown",
   "id": "ebe34808",
   "metadata": {},
   "source": [
    "<div dir=\"rtl\" style=\" font-size: 20px;\">\n",
    "نمایش نوع داده ها\n",
    "</div>"
   ]
  },
  {
   "cell_type": "code",
   "execution_count": 182,
   "id": "2034bbb3-36de-4e48-97a7-667a255f422c",
   "metadata": {},
   "outputs": [
    {
     "data": {
      "text/plain": [
       "date_time_UTC       object\n",
       "latitude_deg       float64\n",
       "longitude_deg      float64\n",
       "depth_km             int64\n",
       "magnitude_value    float64\n",
       "magnitude_type      object\n",
       "region              object\n",
       "dtype: object"
      ]
     },
     "execution_count": 182,
     "metadata": {},
     "output_type": "execute_result"
    }
   ],
   "source": [
    "df.dtypes"
   ]
  },
  {
   "cell_type": "markdown",
   "id": "dd611374",
   "metadata": {},
   "source": [
    "<div dir=\"rtl\" style=\" font-size: 20px;\">\n",
    "تغییر نوع داده های عددی به float\n",
    "</div>"
   ]
  },
  {
   "cell_type": "code",
   "execution_count": 183,
   "id": "027c3d0d-1593-4021-95fd-e22e48311ac4",
   "metadata": {},
   "outputs": [],
   "source": [
    "df[\"depth_km\"] = df[\"depth_km\"].astype(\"float\")"
   ]
  },
  {
   "cell_type": "markdown",
   "id": "5242ab60",
   "metadata": {},
   "source": [
    "<div dir=\"rtl\" style=\" font-size: 20px;\">\n",
    "تغییر نوع ستون داده های ساعت و تاریخ از string به datetime\n",
    "</div>"
   ]
  },
  {
   "cell_type": "code",
   "execution_count": 184,
   "id": "ba41fb73-bc89-4f70-a9a9-fe524d23d279",
   "metadata": {},
   "outputs": [],
   "source": [
    "df[\"date_time_UTC\"] = pd.to_datetime(df[\"date_time_UTC\"], format=\"%Y-%m-%d %H:%M:%S\")"
   ]
  },
  {
   "cell_type": "markdown",
   "id": "9d4cf8a3",
   "metadata": {},
   "source": [
    "<div dir=\"rtl\" style=\" font-size: 20px;\">\n",
    "نمایش تعداد داده های خالی در هر ستون\n",
    "</div>"
   ]
  },
  {
   "cell_type": "code",
   "execution_count": 185,
   "id": "c7977da8-c63b-4ce7-b5fc-02fa17255717",
   "metadata": {},
   "outputs": [],
   "source": [
    "# df.isna().sum()"
   ]
  },
  {
   "cell_type": "code",
   "execution_count": 186,
   "id": "01c44ad7",
   "metadata": {},
   "outputs": [
    {
     "data": {
      "text/plain": [
       "{'date_time_UTC': 0,\n",
       " 'latitude_deg': 0,\n",
       " 'longitude_deg': 0,\n",
       " 'depth_km': 0,\n",
       " 'magnitude_value': 0,\n",
       " 'magnitude_type': 0,\n",
       " 'region': 0}"
      ]
     },
     "execution_count": 186,
     "metadata": {},
     "output_type": "execute_result"
    }
   ],
   "source": [
    "utils.count_missing_values(df)"
   ]
  },
  {
   "cell_type": "markdown",
   "id": "f33abce1",
   "metadata": {},
   "source": [
    "<div dir=\"rtl\" style=\" font-size: 20px;\">\n",
    "حذف کردن سطرهای تکراری\n",
    "</div>"
   ]
  },
  {
   "cell_type": "code",
   "execution_count": 187,
   "id": "458f90af",
   "metadata": {},
   "outputs": [
    {
     "name": "stdout",
     "output_type": "stream",
     "text": [
      "A total number of 0 duplicate rows removed\n"
     ]
    }
   ],
   "source": [
    "rows0 , col0 = df.shape\n",
    "df = df.drop_duplicates()\n",
    "rows1 , col1 = df.shape\n",
    "\n",
    "print(f\"A total number of {rows1 - rows0} duplicate rows removed\")"
   ]
  },
  {
   "cell_type": "markdown",
   "id": "e992a33e",
   "metadata": {},
   "source": [
    "<div dir=\"rtl\" style=\" font-size: 23px;\">\n",
    "شناسایی و حذف کردن رخدادهای زلزله خارج از ژاپن\n",
    "</div>"
   ]
  },
  {
   "cell_type": "markdown",
   "id": "4f4e0da5",
   "metadata": {},
   "source": [
    "<div dir=\"rtl\" style=\" font-size: 20px;\">\n",
    "شناسایی رخدادهای زلزله خارج از ژاپن\n",
    "</div>"
   ]
  },
  {
   "cell_type": "code",
   "execution_count": 188,
   "id": "2984f731",
   "metadata": {},
   "outputs": [
    {
     "name": "stdout",
     "output_type": "stream",
     "text": [
      "Out of 138 records, 11 of them are not related to Japan\n"
     ]
    }
   ],
   "source": [
    "# print(df)\n",
    "def spot_loation(value):\n",
    "    if not \"JAPAN\" in value:\n",
    "        value = \"outside Japan\"\n",
    "    return value\n",
    "\n",
    "df[\"region\"] = df[\"region\"].apply(spot_loation)\n",
    "\n",
    "not_japan = (df[\"region\"]==\"outside Japan\").sum()\n",
    "print(f\"Out of {df.shape[0]} records, {not_japan} of them are not related to Japan\")   "
   ]
  },
  {
   "cell_type": "code",
   "execution_count": 189,
   "id": "899a23c3",
   "metadata": {},
   "outputs": [
    {
     "name": "stdout",
     "output_type": "stream",
     "text": [
      "1      outside Japan\n",
      "3      outside Japan\n",
      "4      outside Japan\n",
      "30     outside Japan\n",
      "47     outside Japan\n",
      "72     outside Japan\n",
      "77     outside Japan\n",
      "79     outside Japan\n",
      "85     outside Japan\n",
      "135    outside Japan\n",
      "136    outside Japan\n",
      "Name: region, dtype: object\n"
     ]
    }
   ],
   "source": [
    "x = df[df[\"region\"]==\"outside Japan\"]\n",
    "print(x[\"region\"])"
   ]
  },
  {
   "cell_type": "markdown",
   "id": "001afee3",
   "metadata": {},
   "source": [
    "<div dir=\"rtl\" style=\" font-size: 20px;\">\n",
    "حذف کردن رخدادهای زلزله خارج از ژاپن از دیتافریم\n",
    "</div>"
   ]
  },
  {
   "cell_type": "code",
   "execution_count": 190,
   "id": "f023f06a",
   "metadata": {},
   "outputs": [
    {
     "data": {
      "text/plain": [
       "(127, 7)"
      ]
     },
     "execution_count": 190,
     "metadata": {},
     "output_type": "execute_result"
    }
   ],
   "source": [
    "df = df[df[\"region\"]!=\"outside Japan\"]\n",
    "df.shape"
   ]
  },
  {
   "cell_type": "markdown",
   "id": "0519820f",
   "metadata": {},
   "source": [
    "<div dir=\"rtl\" style=\" font-size: 20px;\">\n",
    "اضافه کردن ستون month برای نمایش ماه وقوع زلزله به حروف\n",
    "</div>"
   ]
  },
  {
   "cell_type": "code",
   "execution_count": 191,
   "id": "3907875f-36ac-41f7-8405-e1abcac978c0",
   "metadata": {},
   "outputs": [],
   "source": [
    "df.insert(1, \"Month\", value= df[\"date_time_UTC\"].apply(lambda x: calendar.month_name[x.month]))"
   ]
  },
  {
   "cell_type": "markdown",
   "id": "ddd96228",
   "metadata": {},
   "source": [
    "<div dir=\"rtl\" style=\" font-size: 20px;\">\n",
    "اضافه کردن ستون category برای طبقه بندی شدت زلزله\n",
    "</div>"
   ]
  },
  {
   "cell_type": "code",
   "execution_count": 192,
   "id": "f63574c5-b6ee-4940-a7b1-3948725da069",
   "metadata": {},
   "outputs": [],
   "source": [
    "def classify_mag(value):\n",
    "    if value < 4:\n",
    "        return \"weak\"\n",
    "    elif 4 <= value <= 6:\n",
    "        return \"moderate\"\n",
    "    else:\n",
    "        return \"strong\"\n",
    "        \n",
    "x = df[\"magnitude_value\"].apply(classify_mag)\n",
    "df.insert(7, \"Category\", value = x)"
   ]
  },
  {
   "cell_type": "markdown",
   "id": "acca2ed5",
   "metadata": {},
   "source": [
    "<div dir=\"rtl\" style=\" font-size: 20px;\">\n",
    "تغییر نام ستون region به place\n",
    "</div>"
   ]
  },
  {
   "cell_type": "code",
   "execution_count": 193,
   "id": "d142ce7f-444f-438a-856d-47cd7d4519b3",
   "metadata": {},
   "outputs": [],
   "source": [
    "df = df.rename(columns={\"region\":\"place\"})"
   ]
  },
  {
   "cell_type": "markdown",
   "id": "9cf82166",
   "metadata": {},
   "source": [
    "<div dir=\"rtl\" style=\" font-size: 20px;\">\n",
    "اضافه کردن ستون region برای نمایش منطقه وقوع زلزله \n",
    "</div>"
   ]
  },
  {
   "cell_type": "code",
   "execution_count": 194,
   "id": "6a8f05b8-cb91-473a-b28f-d2498dd98760",
   "metadata": {},
   "outputs": [],
   "source": [
    "def f(x):\n",
    "    x = x.split(\",\")\n",
    "    return x[0]\n",
    "\n",
    "df[\"region\"] = df[\"place\"].apply(f)"
   ]
  },
  {
   "cell_type": "markdown",
   "id": "00488cfb",
   "metadata": {},
   "source": [
    "<div dir=\"rtl\" style=\" font-size: 20px;\">\n",
    "اضافه کردن ستون data_source\n",
    "</div>"
   ]
  },
  {
   "cell_type": "code",
   "execution_count": 195,
   "id": "e26a7550",
   "metadata": {},
   "outputs": [],
   "source": [
    "df[\"data_source\"] = \"EMSC\""
   ]
  },
  {
   "cell_type": "markdown",
   "id": "500469b4",
   "metadata": {},
   "source": [
    "<div dir=\"rtl\" style=\" font-size: 27px;\">\n",
    "تحلیل داده ها با Pandas\n",
    "</div>"
   ]
  },
  {
   "cell_type": "markdown",
   "id": "52b75e06",
   "metadata": {},
   "source": [
    "<div dir=\"rtl\" style=\" font-size: 20px;\">\n",
    "نمایش میانگین شدت زلزله و تعداد زلزله ها به تفکیک ماه و category\n",
    "</div>"
   ]
  },
  {
   "cell_type": "code",
   "execution_count": 196,
   "id": "dfe0eca2-7a4d-451b-baad-10e9f9a64000",
   "metadata": {},
   "outputs": [
    {
     "name": "stdout",
     "output_type": "stream",
     "text": [
      "       Month  Category  avg_magnitude  earthquake_count\n",
      "1    October  moderate           4.53                31\n",
      "2    October      weak           3.32                25\n",
      "3  September  moderate           4.42                30\n",
      "4  September      weak           3.33                41\n"
     ]
    }
   ],
   "source": [
    "month_categ_stats = df.groupby([\"Month\",\"Category\"]).agg(avg_magnitude=(\"magnitude_value\", \"mean\"), earthquake_count=(\"magnitude_value\", \"count\")).reset_index()\n",
    "month_categ_stats[\"avg_magnitude\"] = month_categ_stats[\"avg_magnitude\"].round(2)\n",
    "month_categ_stats.index = range(1, len(month_categ_stats)+1)\n",
    "print(month_categ_stats)"
   ]
  },
  {
   "cell_type": "markdown",
   "id": "9b8cab25",
   "metadata": {},
   "source": [
    "<div dir=\"rtl\" style=\" font-size: 23px;\">\n",
    "گروه بندی داده ها بر اساس region و انجام تحلیل های مرتبط\n",
    "</div>"
   ]
  },
  {
   "cell_type": "markdown",
   "id": "a1a0d50f",
   "metadata": {},
   "source": [
    "<div dir=\"rtl\" style=\" font-size: 20px;\">\n",
    "تعداد کل زلزله ها در هر region\n",
    "</div>"
   ]
  },
  {
   "cell_type": "code",
   "execution_count": 197,
   "id": "695040ce-a454-4511-b2c1-138e2637d6c9",
   "metadata": {},
   "outputs": [
    {
     "name": "stdout",
     "output_type": "stream",
     "text": [
      "region\n",
      "RYUKYU ISLANDS               35\n",
      "NEAR EAST COAST OF HONSHU    28\n",
      "OFF EAST COAST OF HONSHU     14\n",
      "EASTERN HONSHU                7\n",
      "HOKKAIDO                      7\n",
      "KYUSHU                        6\n",
      "BONIN ISLANDS                 5\n",
      "IZU ISLANDS                   5\n",
      "NEAR S. COAST OF HONSHU       5\n",
      "NEAR WEST COAST OF HONSHU     5\n",
      "SHIKOKU                       3\n",
      "WESTERN HONSHU                3\n",
      "SOUTHWESTERN RYUKYU ISL.      2\n",
      "EASTERN SEA OF JAPAN          1\n",
      "VOLCANO ISLANDS               1\n",
      "dtype: int64\n"
     ]
    }
   ],
   "source": [
    "print(df.groupby(\"region\").size().sort_values(ascending=False))"
   ]
  },
  {
   "cell_type": "markdown",
   "id": "7f854238",
   "metadata": {},
   "source": [
    "<div dir=\"rtl\" style=\" font-size: 20px;\">\n",
    "نمایش میانگین شدت و عمق زلزله ها در هر region\n",
    "</div>"
   ]
  },
  {
   "cell_type": "code",
   "execution_count": 198,
   "id": "6f004c2b-56d2-42ce-ae04-1aa71563f90b",
   "metadata": {},
   "outputs": [
    {
     "name": "stdout",
     "output_type": "stream",
     "text": [
      "                           magnitude_value  depth_km\n",
      "region                                              \n",
      "BONIN ISLANDS                         4.10    435.60\n",
      "EASTERN HONSHU                        3.36     40.00\n",
      "EASTERN SEA OF JAPAN                  4.10    300.00\n",
      "HOKKAIDO                              3.69     60.71\n",
      "IZU ISLANDS                           4.50    318.80\n",
      "KYUSHU                                3.40     21.67\n",
      "NEAR EAST COAST OF HONSHU             4.10     48.71\n",
      "NEAR S. COAST OF HONSHU               3.70     54.00\n",
      "NEAR WEST COAST OF HONSHU             3.84     44.00\n",
      "OFF EAST COAST OF HONSHU              4.62      9.07\n",
      "RYUKYU ISLANDS                        3.61     13.80\n",
      "SHIKOKU                               3.30     46.67\n",
      "SOUTHWESTERN RYUKYU ISL.              4.00     52.50\n",
      "VOLCANO ISLANDS                       4.60    148.00\n",
      "WESTERN HONSHU                        3.17     13.33\n"
     ]
    }
   ],
   "source": [
    "print(df.groupby(\"region\").agg({\"magnitude_value\":\"mean\", \"depth_km\":\"mean\"}).round(2))"
   ]
  },
  {
   "cell_type": "markdown",
   "id": "4c81ef8b",
   "metadata": {},
   "source": [
    "<div dir=\"rtl\" style=\" font-size: 20px;\">\n",
    "نمایش ماکسیم شدت و عمق زلزله ها در هر region\n",
    "</div>"
   ]
  },
  {
   "cell_type": "code",
   "execution_count": 199,
   "id": "257fedef-eedf-4a9b-b56b-22f284460294",
   "metadata": {},
   "outputs": [
    {
     "name": "stdout",
     "output_type": "stream",
     "text": [
      "                           magnitude_value  depth_km\n",
      "region                                              \n",
      "BONIN ISLANDS                          4.2     504.0\n",
      "EASTERN HONSHU                         4.0      70.0\n",
      "EASTERN SEA OF JAPAN                   4.1     300.0\n",
      "HOKKAIDO                               4.3     130.0\n",
      "IZU ISLANDS                            4.8     437.0\n",
      "KYUSHU                                 4.1      30.0\n",
      "NEAR EAST COAST OF HONSHU              6.0     100.0\n",
      "NEAR S. COAST OF HONSHU                4.5     110.0\n",
      "NEAR WEST COAST OF HONSHU              4.6     180.0\n",
      "OFF EAST COAST OF HONSHU               4.9      12.0\n",
      "RYUKYU ISLANDS                         5.3     140.0\n",
      "SHIKOKU                                3.5      60.0\n",
      "SOUTHWESTERN RYUKYU ISL.               4.5      55.0\n",
      "VOLCANO ISLANDS                        4.6     148.0\n",
      "WESTERN HONSHU                         3.3      20.0\n"
     ]
    }
   ],
   "source": [
    "print(df.groupby(\"region\").agg({\"magnitude_value\":\"max\", \"depth_km\":\"max\"}).round(2))"
   ]
  },
  {
   "cell_type": "markdown",
   "id": "f3729dff",
   "metadata": {},
   "source": [
    "<div dir=\"rtl\" style=\" font-size: 20px;\">\n",
    "نمایش تعداد کل زلزله ها در هر region با نمودار میله ای افقی\n",
    "</div>"
   ]
  },
  {
   "cell_type": "code",
   "execution_count": 200,
   "id": "2a45a3c6-d7c0-48de-8cd5-653e9d61031f",
   "metadata": {},
   "outputs": [
    {
     "data": {
      "image/png": "[encoded data removed]",
      "text/plain": [
       "<Figure size 640x480 with 1 Axes>"
      ]
     },
     "metadata": {},
     "output_type": "display_data"
    }
   ],
   "source": [
    "m = df.groupby(\"region\").size().sort_values()\n",
    "region_plot = m.plot(kind=\"barh\", color=\"orange\")\n",
    "region_plot.set_xlabel(\"Number of earthquakes\")\n",
    "# m.set_ylabel(\"Region\")\n",
    "region_plot.set_title(\"Total earthquakes per region\\n\")\n",
    "# region_plot.grid(True)\n",
    "region_plot.grid(axis='x')"
   ]
  },
  {
   "cell_type": "markdown",
   "id": "5e4b60f9",
   "metadata": {},
   "source": [
    "<div dir=\"rtl\" style=\" font-size: 27px;\">\n",
    "تحلیل داده ها با Numpy\n",
    "</div>"
   ]
  },
  {
   "cell_type": "markdown",
   "id": "5cb6eb1f",
   "metadata": {},
   "source": [
    "<div dir=\"rtl\" style=\" font-size: 23px;\">\n",
    "قسمت اول: محاسبه فاصله محل وقوع زلزله تا توکیو\n",
    "</div>"
   ]
  },
  {
   "cell_type": "markdown",
   "id": "e4ea150c",
   "metadata": {},
   "source": [
    "<div dir=\"rtl\" style=\" font-size: 20px;\">\n",
    "طول و عرض جغرافیایی توکیو٫ ژاپن\n",
    "</div>"
   ]
  },
  {
   "cell_type": "code",
   "execution_count": 201,
   "id": "aeafcd18",
   "metadata": {},
   "outputs": [],
   "source": [
    "tokyo_latitude, tokyo_longitude  = 35.6764, 139.6500"
   ]
  },
  {
   "cell_type": "markdown",
   "id": "a9799683",
   "metadata": {},
   "source": [
    "<div dir=\"rtl\" style=\" font-size: 20px;\">\n",
    "محاسبه فاصله محل وقوع زلزله تا توکیو \n",
    "</div>"
   ]
  },
  {
   "cell_type": "code",
   "execution_count": 202,
   "id": "fb4023e7",
   "metadata": {},
   "outputs": [],
   "source": [
    "# distance = np.sqrt(\n",
    "# (df[\"latitude_deg\"] - tokyo_latitude)**2 +\n",
    "# (df[\"longitude_deg\"] - tokyo_longitude)**2  \n",
    "# ).round(2)\n",
    "\n",
    "# df.insert(4, \"dist_to_Tokyo_km\", value=distance)\n",
    "\n",
    "#################### OR\n",
    "\n",
    "#convert degrees to radians to be able to use them with np.sin(), np.cos() & np.arcsin()\n",
    "earthquake_lat = np.radians(df[\"latitude_deg\"])\n",
    "earthquake_lng = np.radians(df[\"longitude_deg\"])\n",
    "tokyo_lat = np.radians(tokyo_latitude)\n",
    "tokyo_lng = np.radians(tokyo_longitude)\n",
    "\n",
    "dlat = earthquake_lat - tokyo_lat\n",
    "dlng = earthquake_lng - tokyo_lng\n",
    "\n",
    "a = np.sin(dlat / 2)**2 + np.cos(earthquake_lat) * np.cos(tokyo_lat) * np.sin(dlng / 2)**2\n",
    "c = 2 * np.arcsin(np.sqrt(a))\n",
    "\n",
    "# Radius of Earth in km = 6371.00\n",
    "distance = (c * 6371).round(2)\n",
    "df.insert(4, \"dist_to_Tokyo_km\", value=distance)"
   ]
  },
  {
   "cell_type": "markdown",
   "id": "23296d53",
   "metadata": {},
   "source": [
    "<div dir=\"rtl\" style=\" font-size: 23px;\">\n",
    "قسمت دوم: تحلیل شدت زلزله ها\n",
    "</div>"
   ]
  },
  {
   "cell_type": "markdown",
   "id": "619881d3",
   "metadata": {},
   "source": [
    "<div dir=\"rtl\" style=\" font-size: 20px;\">\n",
    "بازه زمانی داده های استخراج شده\n",
    "</div>"
   ]
  },
  {
   "cell_type": "code",
   "execution_count": 203,
   "id": "dfa8c61c",
   "metadata": {},
   "outputs": [
    {
     "name": "stdout",
     "output_type": "stream",
     "text": [
      "From 2025-09-15 to 2025-10-18\n"
     ]
    }
   ],
   "source": [
    "start_date = df.iloc[-1,0]\n",
    "start_date = str(start_date).split()[0]\n",
    "end_date = df.iloc[0,0]\n",
    "end_date = str(end_date).split()[0]\n",
    "print(f\"From {start_date} to {end_date}\")"
   ]
  },
  {
   "cell_type": "markdown",
   "id": "bdd7ca31",
   "metadata": {},
   "source": [
    "<div dir=\"rtl\" style=\" font-size: 20px;\">\n",
    "میانگین شدت زلزله های رخ داده در ژاپن در بازه زمانی تعریف شده \n",
    "</div>"
   ]
  },
  {
   "cell_type": "code",
   "execution_count": 204,
   "id": "c723268a",
   "metadata": {},
   "outputs": [
    {
     "name": "stdout",
     "output_type": "stream",
     "text": [
      "Average magnitude for earthquakes from 2025-09-15 to 2025-10-18 was 3.88\n"
     ]
    }
   ],
   "source": [
    "mag_average = np.mean(df[\"magnitude_value\"])\n",
    "print(f\"Average magnitude for earthquakes from {start_date} to {end_date} was {mag_average:.2f}\")"
   ]
  },
  {
   "cell_type": "markdown",
   "id": "b4c1524c",
   "metadata": {},
   "source": [
    "<div dir=\"rtl\" style=\" font-size: 20px;\">\n",
    "انحراف معیار و واریانس شدت زلزله های رخ داده در ژاپن در بازه زمانی تعریف شده \n",
    "</div>"
   ]
  },
  {
   "cell_type": "code",
   "execution_count": 205,
   "id": "a2a08e68",
   "metadata": {},
   "outputs": [
    {
     "name": "stdout",
     "output_type": "stream",
     "text": [
      "Variance of magnitude for earthquakes from 2025-09-15 to 2025-10-18 was 0.43\n",
      "Standard deviation of magnitude for earthquakes from 2025-09-15 to 2025-10-18 was 0.66\n"
     ]
    }
   ],
   "source": [
    "mag_std_dev = np.std(df[\"magnitude_value\"])\n",
    "mag_var = mag_std_dev ** 2\n",
    "print(f\"Variance of magnitude for earthquakes from {start_date} to {end_date} was {mag_var:.2f}\")\n",
    "print(f\"Standard deviation of magnitude for earthquakes from {start_date} to {end_date} was {mag_std_dev:.2f}\")"
   ]
  },
  {
   "cell_type": "markdown",
   "id": "aad082f3",
   "metadata": {},
   "source": [
    "<div dir=\"rtl\" style=\" font-size: 20px;\">\n",
    "چارک اول و سوم و میانه شدت زلزله های رخ داده در ژاپن در بازه زمانی تعریف شده \n",
    "</div>"
   ]
  },
  {
   "cell_type": "code",
   "execution_count": 206,
   "id": "827bffe7",
   "metadata": {},
   "outputs": [
    {
     "name": "stdout",
     "output_type": "stream",
     "text": [
      "From 2025-09-15 to 2025-10-18 magnitude for:\n",
      "25% of earthquakes was equal or less than 3.30\n",
      "50% of earthquakes was equal or less than 3.90\n",
      "75% of earthquakes was equal or less than 4.50\n"
     ]
    }
   ],
   "source": [
    "mag_p25 = np.percentile(df[\"magnitude_value\"], 25)\n",
    "mag_p50 = np.percentile(df[\"magnitude_value\"], 50)\n",
    "mag_p75 = np.percentile(df[\"magnitude_value\"], 75)\n",
    "print(f\"From {start_date} to {end_date} magnitude for:\")\n",
    "print(f\"25% of earthquakes was equal or less than {mag_p25:.2f}\")\n",
    "print(f\"50% of earthquakes was equal or less than {mag_p50:.2f}\")\n",
    "print(f\"75% of earthquakes was equal or less than {mag_p75:.2f}\")"
   ]
  },
  {
   "cell_type": "markdown",
   "id": "c9ac1eff",
   "metadata": {},
   "source": [
    "<div dir=\"rtl\" style=\" font-size: 27px;\">\n",
    "اکسپورت کردن داده های پردازش شده\n",
    "</div>"
   ]
  },
  {
   "cell_type": "code",
   "execution_count": 207,
   "id": "744f2bb0-554d-42fa-b24a-24ed1640b56c",
   "metadata": {},
   "outputs": [],
   "source": [
    "df.to_csv('JAPAN_EMSC_cleaned.csv' , encoding='utf-8-sig', index=False)"
   ]
  }
 ],
 "metadata": {
  "kernelspec": {
   "display_name": "Python 3",
   "language": "python",
   "name": "python3"
  },
  "language_info": {
   "codemirror_mode": {
    "name": "ipython",
    "version": 3
   },
   "file_extension": ".py",
   "mimetype": "text/x-python",
   "name": "python",
   "nbconvert_exporter": "python",
   "pygments_lexer": "ipython3",
   "version": "3.13.5"
  }
 },
 "nbformat": 4,
 "nbformat_minor": 5
}
