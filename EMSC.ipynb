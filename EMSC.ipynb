{
 "cells": [
  {
   "cell_type": "markdown",
   "id": "18314515-7a7b-4c0a-9f7e-ac6619aa4a24",
   "metadata": {},
   "source": [
    "## Preparations with Pandas"
   ]
  },
  {
   "cell_type": "markdown",
   "id": "8861f60a-e87a-4586-b48f-e211d4e594a5",
   "metadata": {},
   "source": [
    "### Importing required packages"
   ]
  },
  {
   "cell_type": "code",
   "execution_count": 94,
   "id": "69f67369-ce1a-4913-9fe8-8daec822a462",
   "metadata": {},
   "outputs": [],
   "source": [
    "import pandas as pd\n",
    "import numpy as np\n",
    "import matplotlib.pyplot as plt\n",
    "import calendar"
   ]
  },
  {
   "cell_type": "markdown",
   "id": "30f54f56-7f6f-4d97-b6e4-6efc36992bde",
   "metadata": {},
   "source": [
    "### Loading the data"
   ]
  },
  {
   "cell_type": "code",
   "execution_count": 95,
   "id": "8a17b94e-b5f9-4fb1-b73d-0afff1627404",
   "metadata": {},
   "outputs": [],
   "source": [
    "df = pd.read_csv(\"JAPAN_EMSC.csv\")"
   ]
  },
  {
   "cell_type": "markdown",
   "id": "1a05a34d-51b1-4b8a-964c-083477a0d515",
   "metadata": {},
   "source": [
    "### Making index to start from No.1"
   ]
  },
  {
   "cell_type": "code",
   "execution_count": 96,
   "id": "c343c80c-a51d-43ea-9ffa-ddea1aa1a743",
   "metadata": {},
   "outputs": [],
   "source": [
    "df = df.reset_index(drop=True)\n",
    "df.index = range(1, len(df)+1)"
   ]
  },
  {
   "cell_type": "markdown",
   "id": "8a7da2e2-1198-49db-ac22-42a4dcd05b34",
   "metadata": {},
   "source": [
    "### Shape"
   ]
  },
  {
   "cell_type": "code",
   "execution_count": 97,
   "id": "768495ab-dd37-4c03-8096-4809f194a005",
   "metadata": {},
   "outputs": [
    {
     "name": "stdout",
     "output_type": "stream",
     "text": [
      "There are 128 rows and 7 columns\n"
     ]
    }
   ],
   "source": [
    "print(f\"There are {df.shape[0]} rows and {df.shape[1]} columns\")"
   ]
  },
  {
   "cell_type": "markdown",
   "id": "b7a0d62a-53c7-4768-be2b-1708f93a8e8b",
   "metadata": {},
   "source": [
    "### Type of data "
   ]
  },
  {
   "cell_type": "code",
   "execution_count": 98,
   "id": "2034bbb3-36de-4e48-97a7-667a255f422c",
   "metadata": {},
   "outputs": [
    {
     "data": {
      "text/plain": [
       "date_time_UTC       object\n",
       "latitude_deg       float64\n",
       "longitude_deg      float64\n",
       "depth_km             int64\n",
       "magnitude_value    float64\n",
       "magnitude_type      object\n",
       "region              object\n",
       "dtype: object"
      ]
     },
     "execution_count": 98,
     "metadata": {},
     "output_type": "execute_result"
    }
   ],
   "source": [
    "df.dtypes"
   ]
  },
  {
   "cell_type": "markdown",
   "id": "afba50da-24d8-440b-a81c-95c912254d66",
   "metadata": {},
   "source": [
    "### Converting data type of numerical columns to float "
   ]
  },
  {
   "cell_type": "code",
   "execution_count": 99,
   "id": "027c3d0d-1593-4021-95fd-e22e48311ac4",
   "metadata": {},
   "outputs": [],
   "source": [
    "df[\"depth_km\"] = df[\"depth_km\"].astype(\"float\")"
   ]
  },
  {
   "cell_type": "markdown",
   "id": "a23fb101-7240-407f-b307-f0925f0a70d0",
   "metadata": {},
   "source": [
    "### Converting data type of date_time column to datetime"
   ]
  },
  {
   "cell_type": "code",
   "execution_count": 100,
   "id": "ba41fb73-bc89-4f70-a9a9-fe524d23d279",
   "metadata": {},
   "outputs": [],
   "source": [
    "df[\"date_time_UTC\"] = pd.to_datetime(df[\"date_time_UTC\"], format=\"%Y-%m-%d %H:%M:%S\")"
   ]
  },
  {
   "cell_type": "markdown",
   "id": "8dc43592-8675-4d95-975c-11a454ad71f5",
   "metadata": {},
   "source": [
    "### Spotting NaN"
   ]
  },
  {
   "cell_type": "code",
   "execution_count": 101,
   "id": "c7977da8-c63b-4ce7-b5fc-02fa17255717",
   "metadata": {},
   "outputs": [
    {
     "data": {
      "text/plain": [
       "date_time_UTC      0\n",
       "latitude_deg       0\n",
       "longitude_deg      0\n",
       "depth_km           0\n",
       "magnitude_value    0\n",
       "magnitude_type     0\n",
       "region             0\n",
       "dtype: int64"
      ]
     },
     "execution_count": 101,
     "metadata": {},
     "output_type": "execute_result"
    }
   ],
   "source": [
    "df.isna().sum()"
   ]
  },
  {
   "cell_type": "markdown",
   "id": "e20b7221",
   "metadata": {},
   "source": [
    "### Removing duplicates"
   ]
  },
  {
   "cell_type": "code",
   "execution_count": 102,
   "id": "458f90af",
   "metadata": {},
   "outputs": [
    {
     "name": "stdout",
     "output_type": "stream",
     "text": [
      "There were 0 duplicates rows that were removed\n"
     ]
    }
   ],
   "source": [
    "rows0 , col0 = df.shape\n",
    "df = df.drop_duplicates()\n",
    "rows1 , col1 = df.shape\n",
    "\n",
    "print(f\"There were {rows1 - rows0} duplicates rows that were removed\")"
   ]
  },
  {
   "cell_type": "markdown",
   "id": "74235950",
   "metadata": {},
   "source": [
    "### Spotting & Removing events happened outside Japan "
   ]
  },
  {
   "cell_type": "markdown",
   "id": "9b8ec84d",
   "metadata": {},
   "source": [
    "#### Spotting events happened outside Japan"
   ]
  },
  {
   "cell_type": "code",
   "execution_count": 103,
   "id": "2984f731",
   "metadata": {},
   "outputs": [
    {
     "name": "stdout",
     "output_type": "stream",
     "text": [
      "Out of 128 records, 8 of them aren't related to Japan\n"
     ]
    }
   ],
   "source": [
    "# print(df)\n",
    "def spot_loation(value):\n",
    "    if not \"JAPAN\" in value:\n",
    "        value = \"outside Japan\"\n",
    "    return value\n",
    "\n",
    "df[\"region\"] = df[\"region\"].apply(spot_loation)\n",
    "\n",
    "not_japan = (df[\"region\"]==\"outside Japan\").sum()\n",
    "print(f\"Out of {df.shape[0]} records, {not_japan} of them aren't related to Japan\")   "
   ]
  },
  {
   "cell_type": "code",
   "execution_count": 104,
   "id": "899a23c3",
   "metadata": {},
   "outputs": [
    {
     "name": "stdout",
     "output_type": "stream",
     "text": [
      "21     outside Japan\n",
      "38     outside Japan\n",
      "63     outside Japan\n",
      "68     outside Japan\n",
      "70     outside Japan\n",
      "76     outside Japan\n",
      "125    outside Japan\n",
      "126    outside Japan\n",
      "Name: region, dtype: object\n"
     ]
    }
   ],
   "source": [
    "x = df[df[\"region\"]==\"outside Japan\"]\n",
    "print(x[\"region\"])"
   ]
  },
  {
   "cell_type": "markdown",
   "id": "93c1408b",
   "metadata": {},
   "source": [
    "#### Removing events happened outside Japan"
   ]
  },
  {
   "cell_type": "code",
   "execution_count": 105,
   "id": "f023f06a",
   "metadata": {},
   "outputs": [
    {
     "data": {
      "text/plain": [
       "(120, 7)"
      ]
     },
     "execution_count": 105,
     "metadata": {},
     "output_type": "execute_result"
    }
   ],
   "source": [
    "df = df[df[\"region\"]!=\"outside Japan\"]\n",
    "df.shape"
   ]
  },
  {
   "cell_type": "markdown",
   "id": "a27161d6-d97d-4b06-88b2-7e926f1e8fa0",
   "metadata": {},
   "source": [
    "### Adding a new column: Month"
   ]
  },
  {
   "cell_type": "code",
   "execution_count": 106,
   "id": "3907875f-36ac-41f7-8405-e1abcac978c0",
   "metadata": {},
   "outputs": [],
   "source": [
    "df.insert(1, \"Month\", value= df[\"date_time_UTC\"].apply(lambda x: calendar.month_name[x.month]))"
   ]
  },
  {
   "cell_type": "markdown",
   "id": "45afae35-5dfa-443b-9353-712c247f3293",
   "metadata": {},
   "source": [
    "### Adding a new column: Category"
   ]
  },
  {
   "cell_type": "code",
   "execution_count": 107,
   "id": "f63574c5-b6ee-4940-a7b1-3948725da069",
   "metadata": {},
   "outputs": [],
   "source": [
    "def classify_mag(value):\n",
    "    if value < 4:\n",
    "        return \"weak\"\n",
    "    elif 4 <= value <= 6:\n",
    "        return \"moderate\"\n",
    "    else:\n",
    "        return \"strong\"\n",
    "        \n",
    "x = df[\"magnitude_value\"].apply(classify_mag)\n",
    "df.insert(7, \"Category\", value = x)"
   ]
  },
  {
   "cell_type": "markdown",
   "id": "4003a9fb-04d5-4418-a6fb-df9e102cc70f",
   "metadata": {},
   "source": [
    "### Changing the name of column 'region' to 'place'"
   ]
  },
  {
   "cell_type": "code",
   "execution_count": 108,
   "id": "d142ce7f-444f-438a-856d-47cd7d4519b3",
   "metadata": {},
   "outputs": [],
   "source": [
    "df = df.rename(columns={\"region\":\"place\"})"
   ]
  },
  {
   "cell_type": "markdown",
   "id": "fc1fc329-dc9f-4e7d-a2a4-d206c27d740c",
   "metadata": {},
   "source": [
    "### Defining a new column: Region"
   ]
  },
  {
   "cell_type": "code",
   "execution_count": 109,
   "id": "6a8f05b8-cb91-473a-b28f-d2498dd98760",
   "metadata": {},
   "outputs": [],
   "source": [
    "def f(x):\n",
    "    x = x.split(\",\")\n",
    "    return x[0]\n",
    "\n",
    "df[\"region\"] = df[\"place\"].apply(f)"
   ]
  },
  {
   "cell_type": "markdown",
   "id": "3d53332f-2ea5-4056-bde7-d51c0fb3aa8e",
   "metadata": {},
   "source": [
    "## Analysis with Pandas"
   ]
  },
  {
   "cell_type": "markdown",
   "id": "504313e2-0de4-44c3-a173-b6a85378c8a5",
   "metadata": {},
   "source": [
    "### Total & average number of earthquakes based on Month & Category"
   ]
  },
  {
   "cell_type": "code",
   "execution_count": 110,
   "id": "dfe0eca2-7a4d-451b-baad-10e9f9a64000",
   "metadata": {},
   "outputs": [
    {
     "name": "stdout",
     "output_type": "stream",
     "text": [
      "       Month  Category  avg_magnitude  earthquake_count\n",
      "1    October  moderate           4.57                27\n",
      "2    October      weak           3.31                23\n",
      "3  September  moderate           4.41                29\n",
      "4  September      weak           3.33                41\n"
     ]
    }
   ],
   "source": [
    "month_categ_stats = df.groupby([\"Month\",\"Category\"]).agg(avg_magnitude=(\"magnitude_value\", \"mean\"), earthquake_count=(\"magnitude_value\", \"count\")).reset_index()\n",
    "month_categ_stats[\"avg_magnitude\"] = month_categ_stats[\"avg_magnitude\"].round(2)\n",
    "month_categ_stats.index = range(1, len(month_categ_stats)+1)\n",
    "print(month_categ_stats)"
   ]
  },
  {
   "cell_type": "markdown",
   "id": "71b0504b-6e88-4b69-8a38-7cd53665e1cd",
   "metadata": {},
   "source": [
    "### Grouping by data based on region & doing relevant analysis"
   ]
  },
  {
   "cell_type": "markdown",
   "id": "ce847d59-81fd-4a40-8df2-0ae4e01c97ee",
   "metadata": {},
   "source": [
    "#### Count of earthquakes per region"
   ]
  },
  {
   "cell_type": "code",
   "execution_count": 111,
   "id": "695040ce-a454-4511-b2c1-138e2637d6c9",
   "metadata": {},
   "outputs": [
    {
     "name": "stdout",
     "output_type": "stream",
     "text": [
      "region\n",
      "RYUKYU ISLANDS               34\n",
      "NEAR EAST COAST OF HONSHU    27\n",
      "OFF EAST COAST OF HONSHU     14\n",
      "HOKKAIDO                      7\n",
      "EASTERN HONSHU                6\n",
      "KYUSHU                        6\n",
      "BONIN ISLANDS                 5\n",
      "NEAR S. COAST OF HONSHU       5\n",
      "NEAR WEST COAST OF HONSHU     5\n",
      "IZU ISLANDS                   4\n",
      "WESTERN HONSHU                3\n",
      "SHIKOKU                       2\n",
      "SOUTHWESTERN RYUKYU ISL.      2\n",
      "dtype: int64\n"
     ]
    }
   ],
   "source": [
    "print(df.groupby(\"region\").size().sort_values(ascending=False))"
   ]
  },
  {
   "cell_type": "markdown",
   "id": "d659fc95-70e8-46a4-b83c-4660597bfbf2",
   "metadata": {},
   "source": [
    "#### Average of magnitude and depth of earthquakes per region"
   ]
  },
  {
   "cell_type": "code",
   "execution_count": 112,
   "id": "6f004c2b-56d2-42ce-ae04-1aa71563f90b",
   "metadata": {},
   "outputs": [
    {
     "name": "stdout",
     "output_type": "stream",
     "text": [
      "                           magnitude_value  depth_km\n",
      "region                                              \n",
      "BONIN ISLANDS                         4.10    435.60\n",
      "EASTERN HONSHU                        3.25     35.00\n",
      "HOKKAIDO                              3.69     60.71\n",
      "IZU ISLANDS                           4.47    295.25\n",
      "KYUSHU                                3.40     21.67\n",
      "NEAR EAST COAST OF HONSHU             4.10     49.19\n",
      "NEAR S. COAST OF HONSHU               3.70     54.00\n",
      "NEAR WEST COAST OF HONSHU             3.84     44.00\n",
      "OFF EAST COAST OF HONSHU              4.62      9.07\n",
      "RYUKYU ISLANDS                        3.61     14.21\n",
      "SHIKOKU                               3.30     40.00\n",
      "SOUTHWESTERN RYUKYU ISL.              4.00     52.50\n",
      "WESTERN HONSHU                        3.17     13.33\n"
     ]
    }
   ],
   "source": [
    "print(df.groupby(\"region\").agg({\"magnitude_value\":\"mean\", \"depth_km\":\"mean\"}).round(2))"
   ]
  },
  {
   "cell_type": "markdown",
   "id": "614029bb-9a3e-49c4-a838-1395acf774ff",
   "metadata": {},
   "source": [
    "#### Maximum of magnitude and depth of earthquakes per region"
   ]
  },
  {
   "cell_type": "code",
   "execution_count": 113,
   "id": "257fedef-eedf-4a9b-b56b-22f284460294",
   "metadata": {},
   "outputs": [
    {
     "name": "stdout",
     "output_type": "stream",
     "text": [
      "                           magnitude_value  depth_km\n",
      "region                                              \n",
      "BONIN ISLANDS                          4.2     504.0\n",
      "EASTERN HONSHU                         3.8      60.0\n",
      "HOKKAIDO                               4.3     130.0\n",
      "IZU ISLANDS                            4.8     437.0\n",
      "KYUSHU                                 4.1      30.0\n",
      "NEAR EAST COAST OF HONSHU              6.0     100.0\n",
      "NEAR S. COAST OF HONSHU                4.5     110.0\n",
      "NEAR WEST COAST OF HONSHU              4.6     180.0\n",
      "OFF EAST COAST OF HONSHU               4.9      12.0\n",
      "RYUKYU ISLANDS                         5.3     140.0\n",
      "SHIKOKU                                3.5      40.0\n",
      "SOUTHWESTERN RYUKYU ISL.               4.5      55.0\n",
      "WESTERN HONSHU                         3.3      20.0\n"
     ]
    }
   ],
   "source": [
    "print(df.groupby(\"region\").agg({\"magnitude_value\":\"max\", \"depth_km\":\"max\"}).round(2))"
   ]
  },
  {
   "cell_type": "markdown",
   "id": "b2360ece-7a0c-40a6-83ff-19056d8fed1d",
   "metadata": {},
   "source": [
    "### Bar chart for count of earthquakes per region"
   ]
  },
  {
   "cell_type": "code",
   "execution_count": 114,
   "id": "2a45a3c6-d7c0-48de-8cd5-653e9d61031f",
   "metadata": {},
   "outputs": [
    {
     "data": {
      "image/png": "[encoded data removed]",
      "text/plain": [
       "<Figure size 640x480 with 1 Axes>"
      ]
     },
     "metadata": {},
     "output_type": "display_data"
    }
   ],
   "source": [
    "m = df.groupby(\"region\").size().sort_values()\n",
    "region_plot = m.plot(kind=\"barh\", color=\"orange\")\n",
    "region_plot.set_xlabel(\"Number of earthquakes\")\n",
    "# m.set_ylabel(\"Region\")\n",
    "region_plot.set_title(\"Total earthquakes per region\\n\")\n",
    "# region_plot.grid(True)\n",
    "region_plot.grid(axis='x')"
   ]
  },
  {
   "cell_type": "markdown",
   "id": "dfc7c0b4",
   "metadata": {},
   "source": [
    "## Numpy Analysis"
   ]
  },
  {
   "cell_type": "markdown",
   "id": "5888edec",
   "metadata": {},
   "source": [
    "### Part1: Calculating Distance from Tokyo"
   ]
  },
  {
   "cell_type": "markdown",
   "id": "1482a235",
   "metadata": {},
   "source": [
    "#### Latitude & Longitude for Tokyo, Japan"
   ]
  },
  {
   "cell_type": "code",
   "execution_count": 115,
   "id": "aeafcd18",
   "metadata": {},
   "outputs": [],
   "source": [
    "tokyo_latitude, tokyo_longitude  = 35.6764, 139.6500"
   ]
  },
  {
   "cell_type": "markdown",
   "id": "678b44c8",
   "metadata": {},
   "source": [
    "#### Distance calculations"
   ]
  },
  {
   "cell_type": "code",
   "execution_count": 116,
   "id": "fb4023e7",
   "metadata": {},
   "outputs": [],
   "source": [
    "# distance = np.sqrt(\n",
    "# (df[\"latitude_deg\"] - tokyo_latitude)**2 +\n",
    "# (df[\"longitude_deg\"] - tokyo_longitude)**2  \n",
    "# ).round(2)\n",
    "\n",
    "# df.insert(4, \"dist_to_Tokyo_km\", value=distance)\n",
    "\n",
    "#################### OR\n",
    "\n",
    "#convert degrees to radians to be able to use them with np.sin(), np.cos() & np.arcsin()\n",
    "earthquake_lat = np.radians(df[\"latitude_deg\"])\n",
    "earthquake_lng = np.radians(df[\"longitude_deg\"])\n",
    "tokyo_lat = np.radians(tokyo_latitude)\n",
    "tokyo_lng = np.radians(tokyo_longitude)\n",
    "\n",
    "dlat = earthquake_lat - tokyo_lat\n",
    "dlng = earthquake_lng - tokyo_lng\n",
    "\n",
    "a = np.sin(dlat / 2)**2 + np.cos(earthquake_lat) * np.cos(tokyo_lat) * np.sin(dlng / 2)**2\n",
    "c = 2 * np.arcsin(np.sqrt(a))\n",
    "\n",
    "# Radius of Earth in km = 6371.00\n",
    "distance = (c * 6371).round(2)\n",
    "df.insert(4, \"dist_to_Tokyo_km\", value=distance)"
   ]
  },
  {
   "cell_type": "markdown",
   "id": "8a301117",
   "metadata": {},
   "source": [
    "### Part2: Earthquake Magnitude Analysis"
   ]
  },
  {
   "cell_type": "markdown",
   "id": "a99dc77a",
   "metadata": {},
   "source": [
    "#### Date Range for this Analysis"
   ]
  },
  {
   "cell_type": "code",
   "execution_count": 117,
   "id": "dfa8c61c",
   "metadata": {},
   "outputs": [
    {
     "name": "stdout",
     "output_type": "stream",
     "text": [
      "From 2025-09-15 to 2025-10-14\n"
     ]
    }
   ],
   "source": [
    "start_date = df.iloc[-1,0]\n",
    "start_date = str(start_date).split()[0]\n",
    "end_date = df.iloc[0,0]\n",
    "end_date = str(end_date).split()[0]\n",
    "print(f\"From {start_date} to {end_date}\")"
   ]
  },
  {
   "cell_type": "markdown",
   "id": "94a8aa5b",
   "metadata": {},
   "source": [
    "#### Earthquake Magnitude Average"
   ]
  },
  {
   "cell_type": "code",
   "execution_count": 118,
   "id": "c723268a",
   "metadata": {},
   "outputs": [
    {
     "name": "stdout",
     "output_type": "stream",
     "text": [
      "Average magnitude for earthquakes from 2025-09-15 to 2025-10-14 was 3.87\n"
     ]
    }
   ],
   "source": [
    "mag_average = np.mean(df[\"magnitude_value\"])\n",
    "print(f\"Average magnitude for earthquakes from {start_date} to {end_date} was {mag_average:.2f}\")"
   ]
  },
  {
   "cell_type": "markdown",
   "id": "34562281",
   "metadata": {},
   "source": [
    "#### Earthquake Magnitude Variance & Standard Deviation"
   ]
  },
  {
   "cell_type": "code",
   "execution_count": 119,
   "id": "a2a08e68",
   "metadata": {},
   "outputs": [
    {
     "name": "stdout",
     "output_type": "stream",
     "text": [
      "Variance of magnitude for earthquakes from 2025-09-15 to 2025-10-14 was 0.44\n",
      "Standard deviation of magnitude for earthquakes from 2025-09-15 to 2025-10-14 was 0.67\n"
     ]
    }
   ],
   "source": [
    "mag_std_dev = np.std(df[\"magnitude_value\"])\n",
    "mag_var = mag_std_dev ** 2\n",
    "print(f\"Variance of magnitude for earthquakes from {start_date} to {end_date} was {mag_var:.2f}\")\n",
    "print(f\"Standard deviation of magnitude for earthquakes from {start_date} to {end_date} was {mag_std_dev:.2f}\")"
   ]
  },
  {
   "cell_type": "markdown",
   "id": "0177e822",
   "metadata": {},
   "source": [
    "#### Earthquake Magnitude Percentile"
   ]
  },
  {
   "cell_type": "code",
   "execution_count": 120,
   "id": "827bffe7",
   "metadata": {},
   "outputs": [
    {
     "name": "stdout",
     "output_type": "stream",
     "text": [
      "From 2025-09-15 to 2025-10-14 magnitude for:\n",
      "25% of earthquakes was equal or less than 3.30\n",
      "50% of earthquakes was equal or less than 3.80\n",
      "75% of earthquakes was equal or less than 4.50\n"
     ]
    }
   ],
   "source": [
    "mag_p25 = np.percentile(df[\"magnitude_value\"], 25)\n",
    "mag_p50 = np.percentile(df[\"magnitude_value\"], 50)\n",
    "mag_p75 = np.percentile(df[\"magnitude_value\"], 75)\n",
    "print(f\"From {start_date} to {end_date} magnitude for:\")\n",
    "print(f\"25% of earthquakes was equal or less than {mag_p25:.2f}\")\n",
    "print(f\"50% of earthquakes was equal or less than {mag_p50:.2f}\")\n",
    "print(f\"75% of earthquakes was equal or less than {mag_p75:.2f}\")"
   ]
  },
  {
   "cell_type": "markdown",
   "id": "7696afff-0c05-425c-9622-a42c1767074e",
   "metadata": {},
   "source": [
    "## Exporting cleaned data "
   ]
  },
  {
   "cell_type": "code",
   "execution_count": 122,
   "id": "744f2bb0-554d-42fa-b24a-24ed1640b56c",
   "metadata": {},
   "outputs": [],
   "source": [
    "df.to_csv('JAPAN_EMSC_cleaned.csv' , encoding='utf-8-sig', index=False)"
   ]
  }
 ],
 "metadata": {
  "kernelspec": {
   "display_name": "Python 3",
   "language": "python",
   "name": "python3"
  },
  "language_info": {
   "codemirror_mode": {
    "name": "ipython",
    "version": 3
   },
   "file_extension": ".py",
   "mimetype": "text/x-python",
   "name": "python",
   "nbconvert_exporter": "python",
   "pygments_lexer": "ipython3",
   "version": "3.13.5"
  }
 },
 "nbformat": 4,
 "nbformat_minor": 5
}
