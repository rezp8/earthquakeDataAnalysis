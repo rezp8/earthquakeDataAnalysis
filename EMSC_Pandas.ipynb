{
 "cells": [
  {
   "cell_type": "markdown",
   "id": "18314515-7a7b-4c0a-9f7e-ac6619aa4a24",
   "metadata": {},
   "source": [
    "# Preparations"
   ]
  },
  {
   "cell_type": "markdown",
   "id": "8861f60a-e87a-4586-b48f-e211d4e594a5",
   "metadata": {},
   "source": [
    "## Importing required packages"
   ]
  },
  {
   "cell_type": "code",
   "execution_count": 2,
   "id": "69f67369-ce1a-4913-9fe8-8daec822a462",
   "metadata": {},
   "outputs": [],
   "source": [
    "import pandas as pd\n",
    "import matplotlib.pyplot as plt\n",
    "import datetime\n",
    "import calendar"
   ]
  },
  {
   "cell_type": "markdown",
   "id": "30f54f56-7f6f-4d97-b6e4-6efc36992bde",
   "metadata": {},
   "source": [
    "## Loading the data"
   ]
  },
  {
   "cell_type": "code",
   "execution_count": 5,
   "id": "8a17b94e-b5f9-4fb1-b73d-0afff1627404",
   "metadata": {},
   "outputs": [],
   "source": [
    "df = pd.read_csv(\"/Users/sepid/desktop/learning/LearningPython/helloworld/JAPAN_EMSC.csv\")\n",
    "# df = pd.read_csv(\"JAPAN_EMSC.csv\")"
   ]
  },
  {
   "cell_type": "markdown",
   "id": "61fdd9a7-ceec-4724-9112-908eda78f6f4",
   "metadata": {},
   "source": [
    "## Removing duplicate index column"
   ]
  },
  {
   "cell_type": "code",
   "execution_count": 8,
   "id": "6caa3f25-66b0-4340-95b7-3b7754171796",
   "metadata": {},
   "outputs": [],
   "source": [
    "df = df.drop(columns='Unnamed: 0')"
   ]
  },
  {
   "cell_type": "markdown",
   "id": "1a05a34d-51b1-4b8a-964c-083477a0d515",
   "metadata": {},
   "source": [
    "## Making index to start from No.1"
   ]
  },
  {
   "cell_type": "code",
   "execution_count": 7,
   "id": "c343c80c-a51d-43ea-9ffa-ddea1aa1a743",
   "metadata": {},
   "outputs": [],
   "source": [
    "df = df.reset_index(drop=True)\n",
    "df.index = range(1, len(df)+1)"
   ]
  },
  {
   "cell_type": "markdown",
   "id": "8a7da2e2-1198-49db-ac22-42a4dcd05b34",
   "metadata": {},
   "source": [
    "## Shape"
   ]
  },
  {
   "cell_type": "code",
   "execution_count": 6,
   "id": "768495ab-dd37-4c03-8096-4809f194a005",
   "metadata": {},
   "outputs": [
    {
     "data": {
      "text/plain": [
       "(117, 8)"
      ]
     },
     "execution_count": 6,
     "metadata": {},
     "output_type": "execute_result"
    }
   ],
   "source": [
    "df.shape"
   ]
  },
  {
   "cell_type": "markdown",
   "id": "b7a0d62a-53c7-4768-be2b-1708f93a8e8b",
   "metadata": {},
   "source": [
    "## Type of data "
   ]
  },
  {
   "cell_type": "code",
   "execution_count": 9,
   "id": "2034bbb3-36de-4e48-97a7-667a255f422c",
   "metadata": {},
   "outputs": [
    {
     "data": {
      "text/plain": [
       "date_time_UTC       object\n",
       "latitude_deg       float64\n",
       "longitude_deg      float64\n",
       "depth_km             int64\n",
       "magnitude_value    float64\n",
       "magnitude_type      object\n",
       "region              object\n",
       "dtype: object"
      ]
     },
     "execution_count": 9,
     "metadata": {},
     "output_type": "execute_result"
    }
   ],
   "source": [
    "df.dtypes"
   ]
  },
  {
   "cell_type": "markdown",
   "id": "afba50da-24d8-440b-a81c-95c912254d66",
   "metadata": {},
   "source": [
    "## Converting data type of numerical columns to float "
   ]
  },
  {
   "cell_type": "code",
   "execution_count": 10,
   "id": "027c3d0d-1593-4021-95fd-e22e48311ac4",
   "metadata": {},
   "outputs": [],
   "source": [
    "df[\"depth_km\"] = df[\"depth_km\"].astype(\"float\")"
   ]
  },
  {
   "cell_type": "markdown",
   "id": "a23fb101-7240-407f-b307-f0925f0a70d0",
   "metadata": {},
   "source": [
    "## Converting data type of date_time column to datetime"
   ]
  },
  {
   "cell_type": "code",
   "execution_count": 11,
   "id": "ba41fb73-bc89-4f70-a9a9-fe524d23d279",
   "metadata": {},
   "outputs": [],
   "source": [
    "df[\"date_time_UTC\"] = pd.to_datetime(df[\"date_time_UTC\"], format=\"%Y-%m-%d %H:%M:%S\")"
   ]
  },
  {
   "cell_type": "code",
   "execution_count": 12,
   "id": "6044205b-0137-4b95-b188-b4b904339b52",
   "metadata": {},
   "outputs": [
    {
     "data": {
      "text/plain": [
       "date_time_UTC      datetime64[ns]\n",
       "latitude_deg              float64\n",
       "longitude_deg             float64\n",
       "depth_km                  float64\n",
       "magnitude_value           float64\n",
       "magnitude_type             object\n",
       "region                     object\n",
       "dtype: object"
      ]
     },
     "execution_count": 12,
     "metadata": {},
     "output_type": "execute_result"
    }
   ],
   "source": [
    "df.dtypes"
   ]
  },
  {
   "cell_type": "markdown",
   "id": "8dc43592-8675-4d95-975c-11a454ad71f5",
   "metadata": {},
   "source": [
    "## Spotting NaN"
   ]
  },
  {
   "cell_type": "code",
   "execution_count": 13,
   "id": "c7977da8-c63b-4ce7-b5fc-02fa17255717",
   "metadata": {},
   "outputs": [
    {
     "data": {
      "text/plain": [
       "date_time_UTC      0\n",
       "latitude_deg       0\n",
       "longitude_deg      0\n",
       "depth_km           0\n",
       "magnitude_value    0\n",
       "magnitude_type     0\n",
       "region             0\n",
       "dtype: int64"
      ]
     },
     "execution_count": 13,
     "metadata": {},
     "output_type": "execute_result"
    }
   ],
   "source": [
    "df.isna().sum()"
   ]
  },
  {
   "cell_type": "markdown",
   "id": "a27161d6-d97d-4b06-88b2-7e926f1e8fa0",
   "metadata": {},
   "source": [
    "## Adding a new column: Month"
   ]
  },
  {
   "cell_type": "code",
   "execution_count": 14,
   "id": "3907875f-36ac-41f7-8405-e1abcac978c0",
   "metadata": {},
   "outputs": [],
   "source": [
    "df.insert(1, \"Month\", value= df[\"date_time_UTC\"].apply(lambda x: calendar.month_name[x.month]))"
   ]
  },
  {
   "cell_type": "markdown",
   "id": "45afae35-5dfa-443b-9353-712c247f3293",
   "metadata": {},
   "source": [
    "## Adding a new column: Category"
   ]
  },
  {
   "cell_type": "code",
   "execution_count": 15,
   "id": "f63574c5-b6ee-4940-a7b1-3948725da069",
   "metadata": {},
   "outputs": [],
   "source": [
    "def filter(value):\n",
    "    if value < 4:\n",
    "        return \"weak\"\n",
    "    elif 4 <= value <= 6:\n",
    "        return \"moderate\"\n",
    "    else:\n",
    "        return \"strong\"\n",
    "        \n",
    "x = df[\"magnitude_value\"].apply(filter)\n",
    "df.insert(7, \"Category\", value = x)"
   ]
  },
  {
   "cell_type": "markdown",
   "id": "4003a9fb-04d5-4418-a6fb-df9e102cc70f",
   "metadata": {},
   "source": [
    "## Changing the name of column 'region' to 'place'"
   ]
  },
  {
   "cell_type": "code",
   "execution_count": 16,
   "id": "d142ce7f-444f-438a-856d-47cd7d4519b3",
   "metadata": {},
   "outputs": [],
   "source": [
    "df = df.rename(columns={\"region\":\"place\"})"
   ]
  },
  {
   "cell_type": "markdown",
   "id": "fc1fc329-dc9f-4e7d-a2a4-d206c27d740c",
   "metadata": {},
   "source": [
    "## Defining a new column: Region"
   ]
  },
  {
   "cell_type": "code",
   "execution_count": 17,
   "id": "6a8f05b8-cb91-473a-b28f-d2498dd98760",
   "metadata": {},
   "outputs": [],
   "source": [
    "def f(x):\n",
    "    x = x.split(\",\")\n",
    "    return x[0]\n",
    "\n",
    "df[\"region\"] = df[\"place\"].apply(lambda x:f(x))"
   ]
  },
  {
   "cell_type": "code",
   "execution_count": null,
   "id": "e09bfa7d-c8d0-463c-bcd2-19cbc108ac26",
   "metadata": {},
   "outputs": [],
   "source": []
  },
  {
   "cell_type": "code",
   "execution_count": null,
   "id": "d3cb5cd5-18ea-4cc9-afbb-8560ef7afec8",
   "metadata": {},
   "outputs": [],
   "source": []
  },
  {
   "cell_type": "code",
   "execution_count": null,
   "id": "6312139c-ee2d-4e5b-bc53-85e2aaad013e",
   "metadata": {},
   "outputs": [],
   "source": []
  },
  {
   "cell_type": "code",
   "execution_count": null,
   "id": "275d3ffb-4bba-4156-97c3-adf61e41f653",
   "metadata": {},
   "outputs": [],
   "source": []
  },
  {
   "cell_type": "markdown",
   "id": "3d53332f-2ea5-4056-bde7-d51c0fb3aa8e",
   "metadata": {},
   "source": [
    "# Analyzing"
   ]
  },
  {
   "cell_type": "markdown",
   "id": "504313e2-0de4-44c3-a173-b6a85378c8a5",
   "metadata": {},
   "source": [
    "## Total & average number of earthquakes based on Month & Category"
   ]
  },
  {
   "cell_type": "code",
   "execution_count": 18,
   "id": "dfe0eca2-7a4d-451b-baad-10e9f9a64000",
   "metadata": {},
   "outputs": [
    {
     "name": "stdout",
     "output_type": "stream",
     "text": [
      "       Month  Category  avg_magnitude  earthquake_count\n",
      "1    October  moderate           4.59                23\n",
      "2    October      weak           3.30                20\n",
      "3  September  moderate           4.44                27\n",
      "4  September      weak           3.21                47\n"
     ]
    }
   ],
   "source": [
    "month_categ_stats = df.groupby([\"Month\",\"Category\"]).agg(avg_magnitude=(\"magnitude_value\", \"mean\"), earthquake_count=(\"magnitude_value\", \"count\")).reset_index()\n",
    "month_categ_stats[\"avg_magnitude\"] = month_categ_stats[\"avg_magnitude\"].round(2)\n",
    "month_categ_stats.index = range(1, len(month_categ_stats)+1)\n",
    "print(month_categ_stats)"
   ]
  },
  {
   "cell_type": "markdown",
   "id": "71b0504b-6e88-4b69-8a38-7cd53665e1cd",
   "metadata": {},
   "source": [
    "## Grouping by data based on region & doing relevant analysis"
   ]
  },
  {
   "cell_type": "markdown",
   "id": "ce847d59-81fd-4a40-8df2-0ae4e01c97ee",
   "metadata": {},
   "source": [
    "### Count of earthquakes per region"
   ]
  },
  {
   "cell_type": "code",
   "execution_count": 19,
   "id": "695040ce-a454-4511-b2c1-138e2637d6c9",
   "metadata": {},
   "outputs": [
    {
     "name": "stdout",
     "output_type": "stream",
     "text": [
      "region\n",
      "BONIN ISLANDS                       3\n",
      "EASTERN HONSHU                      5\n",
      "HOKKAIDO                            6\n",
      "IZU ISLANDS                         3\n",
      "KYUSHU                              6\n",
      "NEAR EAST COAST OF HONSHU          25\n",
      "NEAR S. COAST OF HONSHU             5\n",
      "NEAR S. COAST OF WESTERN HONSHU     1\n",
      "NEAR WEST COAST OF HONSHU           3\n",
      "OFF EAST COAST OF HONSHU           14\n",
      "RYUKYU ISLANDS                     33\n",
      "SHIKOKU                             2\n",
      "SOUTH KOREA                         6\n",
      "SOUTHWESTERN RYUKYU ISL.            1\n",
      "WESTERN HONSHU                      3\n",
      "YELLOW SEA                          1\n",
      "dtype: int64\n"
     ]
    }
   ],
   "source": [
    "print(df.groupby(\"region\").size())"
   ]
  },
  {
   "cell_type": "markdown",
   "id": "d659fc95-70e8-46a4-b83c-4660597bfbf2",
   "metadata": {},
   "source": [
    "### Average of magnitude and depth of earthquakes per region"
   ]
  },
  {
   "cell_type": "code",
   "execution_count": 20,
   "id": "6f004c2b-56d2-42ce-ae04-1aa71563f90b",
   "metadata": {},
   "outputs": [
    {
     "name": "stdout",
     "output_type": "stream",
     "text": [
      "                                 magnitude_value  depth_km\n",
      "region                                                    \n",
      "BONIN ISLANDS                               4.10    395.67\n",
      "EASTERN HONSHU                              3.22     40.00\n",
      "HOKKAIDO                                    3.80     64.17\n",
      "IZU ISLANDS                                 4.47    249.00\n",
      "KYUSHU                                      3.40     21.67\n",
      "NEAR EAST COAST OF HONSHU                   4.08     51.92\n",
      "NEAR S. COAST OF HONSHU                     3.70     54.00\n",
      "NEAR S. COAST OF WESTERN HONSHU             3.00     10.00\n",
      "NEAR WEST COAST OF HONSHU                   3.87     66.67\n",
      "OFF EAST COAST OF HONSHU                    4.63      9.07\n",
      "RYUKYU ISLANDS                              3.63     14.03\n",
      "SHIKOKU                                     3.30     40.00\n",
      "SOUTH KOREA                                 2.42     15.83\n",
      "SOUTHWESTERN RYUKYU ISL.                    4.50     55.00\n",
      "WESTERN HONSHU                              3.17     13.33\n",
      "YELLOW SEA                                  2.60     11.00\n"
     ]
    }
   ],
   "source": [
    "print(df.groupby(\"region\").agg({\"magnitude_value\":\"mean\", \"depth_km\":\"mean\"}).round(2))"
   ]
  },
  {
   "cell_type": "markdown",
   "id": "614029bb-9a3e-49c4-a838-1395acf774ff",
   "metadata": {},
   "source": [
    "### Maximum of magnitude and depth of earthquakes per region"
   ]
  },
  {
   "cell_type": "code",
   "execution_count": 21,
   "id": "257fedef-eedf-4a9b-b56b-22f284460294",
   "metadata": {},
   "outputs": [
    {
     "name": "stdout",
     "output_type": "stream",
     "text": [
      "                                 magnitude_value  depth_km\n",
      "region                                                    \n",
      "BONIN ISLANDS                                4.2     444.0\n",
      "EASTERN HONSHU                               3.8      60.0\n",
      "HOKKAIDO                                     4.3     130.0\n",
      "IZU ISLANDS                                  4.8     437.0\n",
      "KYUSHU                                       4.1      30.0\n",
      "NEAR EAST COAST OF HONSHU                    6.0     100.0\n",
      "NEAR S. COAST OF HONSHU                      4.5     110.0\n",
      "NEAR S. COAST OF WESTERN HONSHU              3.0      10.0\n",
      "NEAR WEST COAST OF HONSHU                    4.4     180.0\n",
      "OFF EAST COAST OF HONSHU                     4.9      12.0\n",
      "RYUKYU ISLANDS                               5.3     140.0\n",
      "SHIKOKU                                      3.5      40.0\n",
      "SOUTH KOREA                                  3.1      25.0\n",
      "SOUTHWESTERN RYUKYU ISL.                     4.5      55.0\n",
      "WESTERN HONSHU                               3.3      20.0\n",
      "YELLOW SEA                                   2.6      11.0\n"
     ]
    }
   ],
   "source": [
    "print(df.groupby(\"region\").agg({\"magnitude_value\":\"max\", \"depth_km\":\"max\"}).round(2))"
   ]
  },
  {
   "cell_type": "markdown",
   "id": "b2360ece-7a0c-40a6-83ff-19056d8fed1d",
   "metadata": {},
   "source": [
    "### Bar chart for count of earthquakes per region"
   ]
  },
  {
   "cell_type": "code",
   "execution_count": 22,
   "id": "2a45a3c6-d7c0-48de-8cd5-653e9d61031f",
   "metadata": {},
   "outputs": [
    {
     "data": {
      "image/png": "[encoded data removed]",
      "text/plain": [
       "<Figure size 640x480 with 1 Axes>"
      ]
     },
     "metadata": {},
     "output_type": "display_data"
    }
   ],
   "source": [
    "m = df.groupby(\"region\").size()\n",
    "region_plot = m.plot(kind=\"barh\", color=\"orange\")\n",
    "region_plot.set_xlabel(\"Number of earthquakes\")\n",
    "# m.set_ylabel(\"Region\")\n",
    "region_plot.set_title(\"Total earthquakes per region\\n\")\n",
    "# region_plot.grid(True)\n",
    "region_plot.grid(axis='x')"
   ]
  },
  {
   "cell_type": "markdown",
   "id": "7696afff-0c05-425c-9622-a42c1767074e",
   "metadata": {},
   "source": [
    "# Exporting cleaned data "
   ]
  },
  {
   "cell_type": "code",
   "execution_count": 23,
   "id": "744f2bb0-554d-42fa-b24a-24ed1640b56c",
   "metadata": {},
   "outputs": [],
   "source": [
    "df.to_csv('JAPAN_EMSC_cleaned.csv' , encoding='utf-8-sig')"
   ]
  },
  {
   "cell_type": "code",
   "execution_count": null,
   "id": "8323fa00-b77c-41f3-b90e-64fb4638ecfc",
   "metadata": {},
   "outputs": [],
   "source": []
  }
 ],
 "metadata": {
  "kernelspec": {
   "display_name": "Python 3",
   "language": "python",
   "name": "python3"
  },
  "language_info": {
   "codemirror_mode": {
    "name": "ipython",
    "version": 3
   },
   "file_extension": ".py",
   "mimetype": "text/x-python",
   "name": "python",
   "nbconvert_exporter": "python",
   "pygments_lexer": "ipython3",
   "version": "3.13.5"
  }
 },
 "nbformat": 4,
 "nbformat_minor": 5
}
